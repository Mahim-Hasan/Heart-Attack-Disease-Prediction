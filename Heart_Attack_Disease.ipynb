{
  "nbformat": 4,
  "nbformat_minor": 0,
  "metadata": {
    "kernelspec": {
      "display_name": "Python 3",
      "language": "python",
      "name": "python3"
    },
    "language_info": {
      "codemirror_mode": {
        "name": "ipython",
        "version": 3
      },
      "file_extension": ".py",
      "mimetype": "text/x-python",
      "name": "python",
      "nbconvert_exporter": "python",
      "pygments_lexer": "ipython3",
      "version": "3.8.5"
    },
    "colab": {
      "provenance": []
    }
  },
  "cells": [
    {
      "cell_type": "code",
      "metadata": {
        "id": "ODpsht8VNXtw"
      },
      "source": [
        "import numpy as np\n",
        "import matplotlib.pyplot as plt    #importing the libraries\n",
        "import pandas as pd\n",
        "import seaborn as sns\n",
        "sns.set(color_codes=True)"
      ],
      "execution_count": 257,
      "outputs": []
    },
    {
      "cell_type": "code",
      "source": [
        "from google.colab import drive\n",
        "drive.mount('/content/drive')"
      ],
      "metadata": {
        "colab": {
          "base_uri": "https://localhost:8080/"
        },
        "id": "q-G9FAv4SuKQ",
        "outputId": "33b75e6e-b385-466d-9e9a-63dba14e71bb"
      },
      "execution_count": 258,
      "outputs": [
        {
          "output_type": "stream",
          "name": "stdout",
          "text": [
            "Drive already mounted at /content/drive; to attempt to forcibly remount, call drive.mount(\"/content/drive\", force_remount=True).\n"
          ]
        }
      ]
    },
    {
      "cell_type": "code",
      "metadata": {
        "id": "gLLAmKLRNXtz"
      },
      "source": [
        "from sklearn.preprocessing import StandardScaler\n",
        "from sklearn.metrics import confusion_matrix\n",
        "from sklearn.model_selection import train_test_split\n",
        "from sklearn.ensemble import RandomForestClassifier\n",
        "from sklearn.neighbors import KNeighborsRegressor\n",
        "from sklearn.model_selection import cross_val_score\n",
        "from sklearn.metrics import classification_report\n",
        "from sklearn.tree import DecisionTreeClassifier\n",
        "from sklearn.tree import DecisionTreeRegressor\n",
        "from sklearn.svm import SVR\n",
        "from sklearn.pipeline import Pipeline\n",
        "from sklearn.preprocessing import LabelEncoder\n",
        "from sklearn.preprocessing import OneHotEncoder\n",
        "from sklearn import tree"
      ],
      "execution_count": 259,
      "outputs": []
    },
    {
      "cell_type": "code",
      "metadata": {
        "id": "JfjHsgtaNXt0"
      },
      "source": [
        "dataset = pd.read_csv('/content/drive/MyDrive/Heart Attack Disease/heart.csv')\n",
        "x = dataset.iloc[:, :-1].values    #importing the dataset\n",
        "y = dataset.iloc[:, -1].values"
      ],
      "execution_count": 260,
      "outputs": []
    },
    {
      "cell_type": "code",
      "metadata": {
        "colab": {
          "base_uri": "https://localhost:8080/"
        },
        "id": "RyaGRDWLNXt1",
        "outputId": "bec34d84-3077-47c7-8c43-c665b168cff5"
      },
      "source": [
        "print(x)"
      ],
      "execution_count": 261,
      "outputs": [
        {
          "output_type": "stream",
          "name": "stdout",
          "text": [
            "[[65.  1.  3. ...  0.  0.  1.]\n",
            " [37.  1.  2. ...  0.  0.  2.]\n",
            " [41.  0.  1. ...  2.  0.  2.]\n",
            " ...\n",
            " [68.  1.  0. ...  1.  2.  3.]\n",
            " [57.  1.  0. ...  1.  1.  3.]\n",
            " [57.  0.  1. ...  1.  1.  2.]]\n"
          ]
        }
      ]
    },
    {
      "cell_type": "code",
      "metadata": {
        "id": "AgryF3lONXt3",
        "outputId": "7fc88292-715a-4795-e3ae-cc9a83fa9add",
        "colab": {
          "base_uri": "https://localhost:8080/"
        }
      },
      "source": [
        "print(y)"
      ],
      "execution_count": 262,
      "outputs": [
        {
          "output_type": "stream",
          "name": "stdout",
          "text": [
            "[1 1 1 1 1 1 1 1 1 1 1 1 1 1 1 1 1 1 1 1 1 1 1 1 1 1 1 1 1 1 1 1 1 1 1 1 1\n",
            " 1 1 1 1 1 1 1 1 1 1 1 1 1 1 1 1 1 1 1 1 1 1 1 1 1 1 1 1 1 1 1 1 1 1 1 1 1\n",
            " 1 1 1 1 1 1 1 1 1 1 1 1 1 1 1 1 1 1 1 1 1 1 1 1 1 1 1 1 1 1 1 1 1 1 1 1 1\n",
            " 1 1 1 1 1 1 1 1 1 1 1 1 1 1 1 1 1 1 1 1 1 1 1 1 1 1 1 1 1 1 1 1 1 1 1 1 1\n",
            " 1 1 1 1 1 1 1 1 1 1 1 1 1 1 1 1 1 0 0 0 0 0 0 0 0 0 0 0 0 0 0 0 0 0 0 0 0\n",
            " 0 0 0 0 0 0 0 0 0 0 0 0 0 0 0 0 0 0 0 0 0 0 0 0 0 0 0 0 0 0 0 0 0 0 0 0 0\n",
            " 0 0 0 0 0 0 0 0 0 0 0 0 0 0 0 0 0 0 0 0 0 0 0 0 0 0 0 0 0 0 0 0 0 0 0 0 0\n",
            " 0 0 0 0 0 0 0 0 0 0 0 0 0 0 0 0 0 0 0 0 0 0 0 0 0 0 0 0 0 0 0 0 0 0 0 0 0\n",
            " 0 0 0 0 0 0 0]\n"
          ]
        }
      ]
    },
    {
      "cell_type": "code",
      "metadata": {
        "id": "4-B8JFBtNXt3"
      },
      "source": [
        "#taking care of missing data\n",
        "from sklearn.impute import SimpleImputer\n",
        "imputer = SimpleImputer(missing_values=np.nan, strategy='mean')\n",
        "imputer.fit(x[:, 0:12])\n",
        "x[:, 0:12] = imputer.transform(x[:, 0:12])"
      ],
      "execution_count": 263,
      "outputs": []
    },
    {
      "cell_type": "code",
      "metadata": {
        "id": "hHwKmD0fNXt4",
        "outputId": "10e69cd4-9eb8-4d80-d36e-72d6f19b6e00",
        "colab": {
          "base_uri": "https://localhost:8080/"
        }
      },
      "source": [
        "print(x)"
      ],
      "execution_count": 264,
      "outputs": [
        {
          "output_type": "stream",
          "name": "stdout",
          "text": [
            "[[65.  1.  3. ...  0.  0.  1.]\n",
            " [37.  1.  2. ...  0.  0.  2.]\n",
            " [41.  0.  1. ...  2.  0.  2.]\n",
            " ...\n",
            " [68.  1.  0. ...  1.  2.  3.]\n",
            " [57.  1.  0. ...  1.  1.  3.]\n",
            " [57.  0.  1. ...  1.  1.  2.]]\n"
          ]
        }
      ]
    },
    {
      "cell_type": "code",
      "metadata": {
        "id": "GfjVHmH7NXt5",
        "outputId": "4ca24f58-0db6-4ca3-bfa0-91b7bc902727",
        "colab": {
          "base_uri": "https://localhost:8080/"
        }
      },
      "source": [
        "dataset.isnull().sum()"
      ],
      "execution_count": 265,
      "outputs": [
        {
          "output_type": "execute_result",
          "data": {
            "text/plain": [
              "age         0\n",
              "sex         0\n",
              "cp          0\n",
              "trtbps      0\n",
              "chol        0\n",
              "fbs         0\n",
              "restecg     0\n",
              "thalachh    0\n",
              "exng        0\n",
              "oldpeak     0\n",
              "slp         0\n",
              "caa         0\n",
              "thall       0\n",
              "output      0\n",
              "dtype: int64"
            ]
          },
          "metadata": {},
          "execution_count": 265
        }
      ]
    },
    {
      "cell_type": "code",
      "metadata": {
        "id": "x4mLua5ANXt7"
      },
      "source": [
        "#encoding the independent variable\n",
        "from sklearn.compose import ColumnTransformer\n",
        "from sklearn.preprocessing import OneHotEncoder\n",
        "ct = ColumnTransformer(transformers=[('encoder', OneHotEncoder(), [0])], remainder='passthrough')\n",
        "x = np.array(ct.fit_transform(x))"
      ],
      "execution_count": 266,
      "outputs": []
    },
    {
      "cell_type": "code",
      "metadata": {
        "id": "StTjsXojNXt9",
        "outputId": "5ef30aee-9fac-47b5-c2b2-d3bcd62585cd",
        "colab": {
          "base_uri": "https://localhost:8080/"
        }
      },
      "source": [
        "print(x)"
      ],
      "execution_count": 267,
      "outputs": [
        {
          "output_type": "stream",
          "name": "stdout",
          "text": [
            "  (0, 31)\t1.0\n",
            "  (0, 41)\t1.0\n",
            "  (0, 42)\t3.0\n",
            "  (0, 43)\t145.0\n",
            "  (0, 44)\t233.0\n",
            "  (0, 45)\t1.0\n",
            "  (0, 47)\t150.0\n",
            "  (0, 49)\t2.3\n",
            "  (0, 52)\t1.0\n",
            "  (1, 3)\t1.0\n",
            "  (1, 41)\t1.0\n",
            "  (1, 42)\t2.0\n",
            "  (1, 43)\t130.0\n",
            "  (1, 44)\t250.0\n",
            "  (1, 46)\t1.0\n",
            "  (1, 47)\t187.0\n",
            "  (1, 49)\t3.5\n",
            "  (1, 52)\t2.0\n",
            "  (2, 7)\t1.0\n",
            "  (2, 42)\t1.0\n",
            "  (2, 43)\t130.0\n",
            "  (2, 44)\t204.0\n",
            "  (2, 47)\t172.0\n",
            "  (2, 49)\t1.4\n",
            "  (2, 50)\t2.0\n",
            "  :\t:\n",
            "  (300, 46)\t1.0\n",
            "  (300, 47)\t141.0\n",
            "  (300, 49)\t3.4\n",
            "  (300, 50)\t1.0\n",
            "  (300, 51)\t2.0\n",
            "  (300, 52)\t3.0\n",
            "  (301, 23)\t1.0\n",
            "  (301, 41)\t1.0\n",
            "  (301, 43)\t130.0\n",
            "  (301, 44)\t131.0\n",
            "  (301, 46)\t1.0\n",
            "  (301, 47)\t115.0\n",
            "  (301, 48)\t1.0\n",
            "  (301, 49)\t1.2\n",
            "  (301, 50)\t1.0\n",
            "  (301, 51)\t1.0\n",
            "  (301, 52)\t3.0\n",
            "  (302, 23)\t1.0\n",
            "  (302, 42)\t1.0\n",
            "  (302, 43)\t130.0\n",
            "  (302, 44)\t236.0\n",
            "  (302, 47)\t174.0\n",
            "  (302, 50)\t1.0\n",
            "  (302, 51)\t1.0\n",
            "  (302, 52)\t2.0\n"
          ]
        }
      ]
    },
    {
      "cell_type": "code",
      "metadata": {
        "id": "mlReXBA6NXt-"
      },
      "source": [
        "#encoding the dependent variable\n",
        "from sklearn.preprocessing import LabelEncoder\n",
        "le = LabelEncoder()\n",
        "y = le.fit_transform(y)"
      ],
      "execution_count": 268,
      "outputs": []
    },
    {
      "cell_type": "code",
      "metadata": {
        "id": "YpwHCuJhNXt-",
        "outputId": "7c198919-4c00-4a46-e16a-29dc77b013a1",
        "colab": {
          "base_uri": "https://localhost:8080/"
        }
      },
      "source": [
        "print(y)"
      ],
      "execution_count": 269,
      "outputs": [
        {
          "output_type": "stream",
          "name": "stdout",
          "text": [
            "[1 1 1 1 1 1 1 1 1 1 1 1 1 1 1 1 1 1 1 1 1 1 1 1 1 1 1 1 1 1 1 1 1 1 1 1 1\n",
            " 1 1 1 1 1 1 1 1 1 1 1 1 1 1 1 1 1 1 1 1 1 1 1 1 1 1 1 1 1 1 1 1 1 1 1 1 1\n",
            " 1 1 1 1 1 1 1 1 1 1 1 1 1 1 1 1 1 1 1 1 1 1 1 1 1 1 1 1 1 1 1 1 1 1 1 1 1\n",
            " 1 1 1 1 1 1 1 1 1 1 1 1 1 1 1 1 1 1 1 1 1 1 1 1 1 1 1 1 1 1 1 1 1 1 1 1 1\n",
            " 1 1 1 1 1 1 1 1 1 1 1 1 1 1 1 1 1 0 0 0 0 0 0 0 0 0 0 0 0 0 0 0 0 0 0 0 0\n",
            " 0 0 0 0 0 0 0 0 0 0 0 0 0 0 0 0 0 0 0 0 0 0 0 0 0 0 0 0 0 0 0 0 0 0 0 0 0\n",
            " 0 0 0 0 0 0 0 0 0 0 0 0 0 0 0 0 0 0 0 0 0 0 0 0 0 0 0 0 0 0 0 0 0 0 0 0 0\n",
            " 0 0 0 0 0 0 0 0 0 0 0 0 0 0 0 0 0 0 0 0 0 0 0 0 0 0 0 0 0 0 0 0 0 0 0 0 0\n",
            " 0 0 0 0 0 0 0]\n"
          ]
        }
      ]
    },
    {
      "cell_type": "code",
      "metadata": {
        "id": "GszuaSuFNXt_",
        "outputId": "8ac19b2c-d312-4ad3-de99-ee2620e1e18a",
        "colab": {
          "base_uri": "https://localhost:8080/"
        }
      },
      "source": [
        "dataset.shape"
      ],
      "execution_count": 270,
      "outputs": [
        {
          "output_type": "execute_result",
          "data": {
            "text/plain": [
              "(303, 14)"
            ]
          },
          "metadata": {},
          "execution_count": 270
        }
      ]
    },
    {
      "cell_type": "code",
      "metadata": {
        "id": "_-ksp5TSNXuA",
        "outputId": "a5476a75-55aa-4a91-9869-f9792c88a4e9",
        "colab": {
          "base_uri": "https://localhost:8080/",
          "height": 206
        }
      },
      "source": [
        "df = dataset.head()\n",
        "df"
      ],
      "execution_count": 271,
      "outputs": [
        {
          "output_type": "execute_result",
          "data": {
            "text/plain": [
              "   age  sex  cp  trtbps  chol  fbs  restecg  thalachh  exng  oldpeak  slp  \\\n",
              "0   65    1   3     145   233    1        0       150     0      2.3    0   \n",
              "1   37    1   2     130   250    0        1       187     0      3.5    0   \n",
              "2   41    0   1     130   204    0        0       172     0      1.4    2   \n",
              "3   56    1   1     120   236    0        1       178     0      0.8    2   \n",
              "4   57    0   0     120   354    0        1       163     1      0.6    2   \n",
              "\n",
              "   caa  thall  output  \n",
              "0    0      1       1  \n",
              "1    0      2       1  \n",
              "2    0      2       1  \n",
              "3    0      2       1  \n",
              "4    0      2       1  "
            ],
            "text/html": [
              "\n",
              "  <div id=\"df-2f8b0021-1679-4b8d-8bed-f08543077bc0\">\n",
              "    <div class=\"colab-df-container\">\n",
              "      <div>\n",
              "<style scoped>\n",
              "    .dataframe tbody tr th:only-of-type {\n",
              "        vertical-align: middle;\n",
              "    }\n",
              "\n",
              "    .dataframe tbody tr th {\n",
              "        vertical-align: top;\n",
              "    }\n",
              "\n",
              "    .dataframe thead th {\n",
              "        text-align: right;\n",
              "    }\n",
              "</style>\n",
              "<table border=\"1\" class=\"dataframe\">\n",
              "  <thead>\n",
              "    <tr style=\"text-align: right;\">\n",
              "      <th></th>\n",
              "      <th>age</th>\n",
              "      <th>sex</th>\n",
              "      <th>cp</th>\n",
              "      <th>trtbps</th>\n",
              "      <th>chol</th>\n",
              "      <th>fbs</th>\n",
              "      <th>restecg</th>\n",
              "      <th>thalachh</th>\n",
              "      <th>exng</th>\n",
              "      <th>oldpeak</th>\n",
              "      <th>slp</th>\n",
              "      <th>caa</th>\n",
              "      <th>thall</th>\n",
              "      <th>output</th>\n",
              "    </tr>\n",
              "  </thead>\n",
              "  <tbody>\n",
              "    <tr>\n",
              "      <th>0</th>\n",
              "      <td>65</td>\n",
              "      <td>1</td>\n",
              "      <td>3</td>\n",
              "      <td>145</td>\n",
              "      <td>233</td>\n",
              "      <td>1</td>\n",
              "      <td>0</td>\n",
              "      <td>150</td>\n",
              "      <td>0</td>\n",
              "      <td>2.3</td>\n",
              "      <td>0</td>\n",
              "      <td>0</td>\n",
              "      <td>1</td>\n",
              "      <td>1</td>\n",
              "    </tr>\n",
              "    <tr>\n",
              "      <th>1</th>\n",
              "      <td>37</td>\n",
              "      <td>1</td>\n",
              "      <td>2</td>\n",
              "      <td>130</td>\n",
              "      <td>250</td>\n",
              "      <td>0</td>\n",
              "      <td>1</td>\n",
              "      <td>187</td>\n",
              "      <td>0</td>\n",
              "      <td>3.5</td>\n",
              "      <td>0</td>\n",
              "      <td>0</td>\n",
              "      <td>2</td>\n",
              "      <td>1</td>\n",
              "    </tr>\n",
              "    <tr>\n",
              "      <th>2</th>\n",
              "      <td>41</td>\n",
              "      <td>0</td>\n",
              "      <td>1</td>\n",
              "      <td>130</td>\n",
              "      <td>204</td>\n",
              "      <td>0</td>\n",
              "      <td>0</td>\n",
              "      <td>172</td>\n",
              "      <td>0</td>\n",
              "      <td>1.4</td>\n",
              "      <td>2</td>\n",
              "      <td>0</td>\n",
              "      <td>2</td>\n",
              "      <td>1</td>\n",
              "    </tr>\n",
              "    <tr>\n",
              "      <th>3</th>\n",
              "      <td>56</td>\n",
              "      <td>1</td>\n",
              "      <td>1</td>\n",
              "      <td>120</td>\n",
              "      <td>236</td>\n",
              "      <td>0</td>\n",
              "      <td>1</td>\n",
              "      <td>178</td>\n",
              "      <td>0</td>\n",
              "      <td>0.8</td>\n",
              "      <td>2</td>\n",
              "      <td>0</td>\n",
              "      <td>2</td>\n",
              "      <td>1</td>\n",
              "    </tr>\n",
              "    <tr>\n",
              "      <th>4</th>\n",
              "      <td>57</td>\n",
              "      <td>0</td>\n",
              "      <td>0</td>\n",
              "      <td>120</td>\n",
              "      <td>354</td>\n",
              "      <td>0</td>\n",
              "      <td>1</td>\n",
              "      <td>163</td>\n",
              "      <td>1</td>\n",
              "      <td>0.6</td>\n",
              "      <td>2</td>\n",
              "      <td>0</td>\n",
              "      <td>2</td>\n",
              "      <td>1</td>\n",
              "    </tr>\n",
              "  </tbody>\n",
              "</table>\n",
              "</div>\n",
              "      <button class=\"colab-df-convert\" onclick=\"convertToInteractive('df-2f8b0021-1679-4b8d-8bed-f08543077bc0')\"\n",
              "              title=\"Convert this dataframe to an interactive table.\"\n",
              "              style=\"display:none;\">\n",
              "        \n",
              "  <svg xmlns=\"http://www.w3.org/2000/svg\" height=\"24px\"viewBox=\"0 0 24 24\"\n",
              "       width=\"24px\">\n",
              "    <path d=\"M0 0h24v24H0V0z\" fill=\"none\"/>\n",
              "    <path d=\"M18.56 5.44l.94 2.06.94-2.06 2.06-.94-2.06-.94-.94-2.06-.94 2.06-2.06.94zm-11 1L8.5 8.5l.94-2.06 2.06-.94-2.06-.94L8.5 2.5l-.94 2.06-2.06.94zm10 10l.94 2.06.94-2.06 2.06-.94-2.06-.94-.94-2.06-.94 2.06-2.06.94z\"/><path d=\"M17.41 7.96l-1.37-1.37c-.4-.4-.92-.59-1.43-.59-.52 0-1.04.2-1.43.59L10.3 9.45l-7.72 7.72c-.78.78-.78 2.05 0 2.83L4 21.41c.39.39.9.59 1.41.59.51 0 1.02-.2 1.41-.59l7.78-7.78 2.81-2.81c.8-.78.8-2.07 0-2.86zM5.41 20L4 18.59l7.72-7.72 1.47 1.35L5.41 20z\"/>\n",
              "  </svg>\n",
              "      </button>\n",
              "      \n",
              "  <style>\n",
              "    .colab-df-container {\n",
              "      display:flex;\n",
              "      flex-wrap:wrap;\n",
              "      gap: 12px;\n",
              "    }\n",
              "\n",
              "    .colab-df-convert {\n",
              "      background-color: #E8F0FE;\n",
              "      border: none;\n",
              "      border-radius: 50%;\n",
              "      cursor: pointer;\n",
              "      display: none;\n",
              "      fill: #1967D2;\n",
              "      height: 32px;\n",
              "      padding: 0 0 0 0;\n",
              "      width: 32px;\n",
              "    }\n",
              "\n",
              "    .colab-df-convert:hover {\n",
              "      background-color: #E2EBFA;\n",
              "      box-shadow: 0px 1px 2px rgba(60, 64, 67, 0.3), 0px 1px 3px 1px rgba(60, 64, 67, 0.15);\n",
              "      fill: #174EA6;\n",
              "    }\n",
              "\n",
              "    [theme=dark] .colab-df-convert {\n",
              "      background-color: #3B4455;\n",
              "      fill: #D2E3FC;\n",
              "    }\n",
              "\n",
              "    [theme=dark] .colab-df-convert:hover {\n",
              "      background-color: #434B5C;\n",
              "      box-shadow: 0px 1px 3px 1px rgba(0, 0, 0, 0.15);\n",
              "      filter: drop-shadow(0px 1px 2px rgba(0, 0, 0, 0.3));\n",
              "      fill: #FFFFFF;\n",
              "    }\n",
              "  </style>\n",
              "\n",
              "      <script>\n",
              "        const buttonEl =\n",
              "          document.querySelector('#df-2f8b0021-1679-4b8d-8bed-f08543077bc0 button.colab-df-convert');\n",
              "        buttonEl.style.display =\n",
              "          google.colab.kernel.accessAllowed ? 'block' : 'none';\n",
              "\n",
              "        async function convertToInteractive(key) {\n",
              "          const element = document.querySelector('#df-2f8b0021-1679-4b8d-8bed-f08543077bc0');\n",
              "          const dataTable =\n",
              "            await google.colab.kernel.invokeFunction('convertToInteractive',\n",
              "                                                     [key], {});\n",
              "          if (!dataTable) return;\n",
              "\n",
              "          const docLinkHtml = 'Like what you see? Visit the ' +\n",
              "            '<a target=\"_blank\" href=https://colab.research.google.com/notebooks/data_table.ipynb>data table notebook</a>'\n",
              "            + ' to learn more about interactive tables.';\n",
              "          element.innerHTML = '';\n",
              "          dataTable['output_type'] = 'display_data';\n",
              "          await google.colab.output.renderOutput(dataTable, element);\n",
              "          const docLink = document.createElement('div');\n",
              "          docLink.innerHTML = docLinkHtml;\n",
              "          element.appendChild(docLink);\n",
              "        }\n",
              "      </script>\n",
              "    </div>\n",
              "  </div>\n",
              "  "
            ]
          },
          "metadata": {},
          "execution_count": 271
        }
      ]
    },
    {
      "cell_type": "code",
      "metadata": {
        "id": "LkN3F-4YNXuA",
        "outputId": "3b74be2f-f52e-466e-cd1d-9f791c0ba519",
        "colab": {
          "base_uri": "https://localhost:8080/",
          "height": 206
        }
      },
      "source": [
        "dff = dataset.tail()\n",
        "dff"
      ],
      "execution_count": 272,
      "outputs": [
        {
          "output_type": "execute_result",
          "data": {
            "text/plain": [
              "     age  sex  cp  trtbps  chol  fbs  restecg  thalachh  exng  oldpeak  slp  \\\n",
              "298   57    0   0     140   241    0        1       123     1      0.2    1   \n",
              "299   45    1   3     110   264    0        1       132     0      1.2    1   \n",
              "300   68    1   0     144   193    1        1       141     0      3.4    1   \n",
              "301   57    1   0     130   131    0        1       115     1      1.2    1   \n",
              "302   57    0   1     130   236    0        0       174     0      0.0    1   \n",
              "\n",
              "     caa  thall  output  \n",
              "298    0      3       0  \n",
              "299    0      3       0  \n",
              "300    2      3       0  \n",
              "301    1      3       0  \n",
              "302    1      2       0  "
            ],
            "text/html": [
              "\n",
              "  <div id=\"df-604a9d03-3a04-4d4c-a310-242e56faaf16\">\n",
              "    <div class=\"colab-df-container\">\n",
              "      <div>\n",
              "<style scoped>\n",
              "    .dataframe tbody tr th:only-of-type {\n",
              "        vertical-align: middle;\n",
              "    }\n",
              "\n",
              "    .dataframe tbody tr th {\n",
              "        vertical-align: top;\n",
              "    }\n",
              "\n",
              "    .dataframe thead th {\n",
              "        text-align: right;\n",
              "    }\n",
              "</style>\n",
              "<table border=\"1\" class=\"dataframe\">\n",
              "  <thead>\n",
              "    <tr style=\"text-align: right;\">\n",
              "      <th></th>\n",
              "      <th>age</th>\n",
              "      <th>sex</th>\n",
              "      <th>cp</th>\n",
              "      <th>trtbps</th>\n",
              "      <th>chol</th>\n",
              "      <th>fbs</th>\n",
              "      <th>restecg</th>\n",
              "      <th>thalachh</th>\n",
              "      <th>exng</th>\n",
              "      <th>oldpeak</th>\n",
              "      <th>slp</th>\n",
              "      <th>caa</th>\n",
              "      <th>thall</th>\n",
              "      <th>output</th>\n",
              "    </tr>\n",
              "  </thead>\n",
              "  <tbody>\n",
              "    <tr>\n",
              "      <th>298</th>\n",
              "      <td>57</td>\n",
              "      <td>0</td>\n",
              "      <td>0</td>\n",
              "      <td>140</td>\n",
              "      <td>241</td>\n",
              "      <td>0</td>\n",
              "      <td>1</td>\n",
              "      <td>123</td>\n",
              "      <td>1</td>\n",
              "      <td>0.2</td>\n",
              "      <td>1</td>\n",
              "      <td>0</td>\n",
              "      <td>3</td>\n",
              "      <td>0</td>\n",
              "    </tr>\n",
              "    <tr>\n",
              "      <th>299</th>\n",
              "      <td>45</td>\n",
              "      <td>1</td>\n",
              "      <td>3</td>\n",
              "      <td>110</td>\n",
              "      <td>264</td>\n",
              "      <td>0</td>\n",
              "      <td>1</td>\n",
              "      <td>132</td>\n",
              "      <td>0</td>\n",
              "      <td>1.2</td>\n",
              "      <td>1</td>\n",
              "      <td>0</td>\n",
              "      <td>3</td>\n",
              "      <td>0</td>\n",
              "    </tr>\n",
              "    <tr>\n",
              "      <th>300</th>\n",
              "      <td>68</td>\n",
              "      <td>1</td>\n",
              "      <td>0</td>\n",
              "      <td>144</td>\n",
              "      <td>193</td>\n",
              "      <td>1</td>\n",
              "      <td>1</td>\n",
              "      <td>141</td>\n",
              "      <td>0</td>\n",
              "      <td>3.4</td>\n",
              "      <td>1</td>\n",
              "      <td>2</td>\n",
              "      <td>3</td>\n",
              "      <td>0</td>\n",
              "    </tr>\n",
              "    <tr>\n",
              "      <th>301</th>\n",
              "      <td>57</td>\n",
              "      <td>1</td>\n",
              "      <td>0</td>\n",
              "      <td>130</td>\n",
              "      <td>131</td>\n",
              "      <td>0</td>\n",
              "      <td>1</td>\n",
              "      <td>115</td>\n",
              "      <td>1</td>\n",
              "      <td>1.2</td>\n",
              "      <td>1</td>\n",
              "      <td>1</td>\n",
              "      <td>3</td>\n",
              "      <td>0</td>\n",
              "    </tr>\n",
              "    <tr>\n",
              "      <th>302</th>\n",
              "      <td>57</td>\n",
              "      <td>0</td>\n",
              "      <td>1</td>\n",
              "      <td>130</td>\n",
              "      <td>236</td>\n",
              "      <td>0</td>\n",
              "      <td>0</td>\n",
              "      <td>174</td>\n",
              "      <td>0</td>\n",
              "      <td>0.0</td>\n",
              "      <td>1</td>\n",
              "      <td>1</td>\n",
              "      <td>2</td>\n",
              "      <td>0</td>\n",
              "    </tr>\n",
              "  </tbody>\n",
              "</table>\n",
              "</div>\n",
              "      <button class=\"colab-df-convert\" onclick=\"convertToInteractive('df-604a9d03-3a04-4d4c-a310-242e56faaf16')\"\n",
              "              title=\"Convert this dataframe to an interactive table.\"\n",
              "              style=\"display:none;\">\n",
              "        \n",
              "  <svg xmlns=\"http://www.w3.org/2000/svg\" height=\"24px\"viewBox=\"0 0 24 24\"\n",
              "       width=\"24px\">\n",
              "    <path d=\"M0 0h24v24H0V0z\" fill=\"none\"/>\n",
              "    <path d=\"M18.56 5.44l.94 2.06.94-2.06 2.06-.94-2.06-.94-.94-2.06-.94 2.06-2.06.94zm-11 1L8.5 8.5l.94-2.06 2.06-.94-2.06-.94L8.5 2.5l-.94 2.06-2.06.94zm10 10l.94 2.06.94-2.06 2.06-.94-2.06-.94-.94-2.06-.94 2.06-2.06.94z\"/><path d=\"M17.41 7.96l-1.37-1.37c-.4-.4-.92-.59-1.43-.59-.52 0-1.04.2-1.43.59L10.3 9.45l-7.72 7.72c-.78.78-.78 2.05 0 2.83L4 21.41c.39.39.9.59 1.41.59.51 0 1.02-.2 1.41-.59l7.78-7.78 2.81-2.81c.8-.78.8-2.07 0-2.86zM5.41 20L4 18.59l7.72-7.72 1.47 1.35L5.41 20z\"/>\n",
              "  </svg>\n",
              "      </button>\n",
              "      \n",
              "  <style>\n",
              "    .colab-df-container {\n",
              "      display:flex;\n",
              "      flex-wrap:wrap;\n",
              "      gap: 12px;\n",
              "    }\n",
              "\n",
              "    .colab-df-convert {\n",
              "      background-color: #E8F0FE;\n",
              "      border: none;\n",
              "      border-radius: 50%;\n",
              "      cursor: pointer;\n",
              "      display: none;\n",
              "      fill: #1967D2;\n",
              "      height: 32px;\n",
              "      padding: 0 0 0 0;\n",
              "      width: 32px;\n",
              "    }\n",
              "\n",
              "    .colab-df-convert:hover {\n",
              "      background-color: #E2EBFA;\n",
              "      box-shadow: 0px 1px 2px rgba(60, 64, 67, 0.3), 0px 1px 3px 1px rgba(60, 64, 67, 0.15);\n",
              "      fill: #174EA6;\n",
              "    }\n",
              "\n",
              "    [theme=dark] .colab-df-convert {\n",
              "      background-color: #3B4455;\n",
              "      fill: #D2E3FC;\n",
              "    }\n",
              "\n",
              "    [theme=dark] .colab-df-convert:hover {\n",
              "      background-color: #434B5C;\n",
              "      box-shadow: 0px 1px 3px 1px rgba(0, 0, 0, 0.15);\n",
              "      filter: drop-shadow(0px 1px 2px rgba(0, 0, 0, 0.3));\n",
              "      fill: #FFFFFF;\n",
              "    }\n",
              "  </style>\n",
              "\n",
              "      <script>\n",
              "        const buttonEl =\n",
              "          document.querySelector('#df-604a9d03-3a04-4d4c-a310-242e56faaf16 button.colab-df-convert');\n",
              "        buttonEl.style.display =\n",
              "          google.colab.kernel.accessAllowed ? 'block' : 'none';\n",
              "\n",
              "        async function convertToInteractive(key) {\n",
              "          const element = document.querySelector('#df-604a9d03-3a04-4d4c-a310-242e56faaf16');\n",
              "          const dataTable =\n",
              "            await google.colab.kernel.invokeFunction('convertToInteractive',\n",
              "                                                     [key], {});\n",
              "          if (!dataTable) return;\n",
              "\n",
              "          const docLinkHtml = 'Like what you see? Visit the ' +\n",
              "            '<a target=\"_blank\" href=https://colab.research.google.com/notebooks/data_table.ipynb>data table notebook</a>'\n",
              "            + ' to learn more about interactive tables.';\n",
              "          element.innerHTML = '';\n",
              "          dataTable['output_type'] = 'display_data';\n",
              "          await google.colab.output.renderOutput(dataTable, element);\n",
              "          const docLink = document.createElement('div');\n",
              "          docLink.innerHTML = docLinkHtml;\n",
              "          element.appendChild(docLink);\n",
              "        }\n",
              "      </script>\n",
              "    </div>\n",
              "  </div>\n",
              "  "
            ]
          },
          "metadata": {},
          "execution_count": 272
        }
      ]
    },
    {
      "cell_type": "code",
      "metadata": {
        "id": "WSBBNVsSNXuB",
        "outputId": "aac3425a-5636-45db-db3e-bf490639f1bd",
        "colab": {
          "base_uri": "https://localhost:8080/"
        }
      },
      "source": [
        "dataset.info()"
      ],
      "execution_count": 273,
      "outputs": [
        {
          "output_type": "stream",
          "name": "stdout",
          "text": [
            "<class 'pandas.core.frame.DataFrame'>\n",
            "RangeIndex: 303 entries, 0 to 302\n",
            "Data columns (total 14 columns):\n",
            " #   Column    Non-Null Count  Dtype  \n",
            "---  ------    --------------  -----  \n",
            " 0   age       303 non-null    int64  \n",
            " 1   sex       303 non-null    int64  \n",
            " 2   cp        303 non-null    int64  \n",
            " 3   trtbps    303 non-null    int64  \n",
            " 4   chol      303 non-null    int64  \n",
            " 5   fbs       303 non-null    int64  \n",
            " 6   restecg   303 non-null    int64  \n",
            " 7   thalachh  303 non-null    int64  \n",
            " 8   exng      303 non-null    int64  \n",
            " 9   oldpeak   303 non-null    float64\n",
            " 10  slp       303 non-null    int64  \n",
            " 11  caa       303 non-null    int64  \n",
            " 12  thall     303 non-null    int64  \n",
            " 13  output    303 non-null    int64  \n",
            "dtypes: float64(1), int64(13)\n",
            "memory usage: 33.3 KB\n"
          ]
        }
      ]
    },
    {
      "cell_type": "code",
      "metadata": {
        "id": "LJODduaXNXuC",
        "outputId": "4cb1b2c2-07d7-4c05-cd0d-b95efef6df99",
        "colab": {
          "base_uri": "https://localhost:8080/",
          "height": 340
        }
      },
      "source": [
        "#dataset visualization bar plot\n",
        "sns.barplot(dataset['age'], dataset['chol'])\n",
        "plt.savefig('ex.png')"
      ],
      "execution_count": 274,
      "outputs": [
        {
          "output_type": "stream",
          "name": "stderr",
          "text": [
            "/usr/local/lib/python3.8/dist-packages/seaborn/_decorators.py:36: FutureWarning: Pass the following variables as keyword args: x, y. From version 0.12, the only valid positional argument will be `data`, and passing other arguments without an explicit keyword will result in an error or misinterpretation.\n",
            "  warnings.warn(\n"
          ]
        },
        {
          "output_type": "display_data",
          "data": {
            "text/plain": [
              "<Figure size 432x288 with 1 Axes>"
            ],
            "image/png": "[encoded data removed]"
          },
          "metadata": {}
        }
      ]
    },
    {
      "cell_type": "code",
      "metadata": {
        "id": "8cV0grlMNXuE",
        "outputId": "0ce0b450-a981-494b-852b-a72908432627",
        "colab": {
          "base_uri": "https://localhost:8080/",
          "height": 492
        }
      },
      "source": [
        "#dataset visualization joint plot\n",
        "sns.jointplot(dataset['chol'], dataset['thalachh'])\n",
        "plt.savefig('ex5.png')"
      ],
      "execution_count": 275,
      "outputs": [
        {
          "output_type": "stream",
          "name": "stderr",
          "text": [
            "/usr/local/lib/python3.8/dist-packages/seaborn/_decorators.py:36: FutureWarning: Pass the following variables as keyword args: x, y. From version 0.12, the only valid positional argument will be `data`, and passing other arguments without an explicit keyword will result in an error or misinterpretation.\n",
            "  warnings.warn(\n"
          ]
        },
        {
          "output_type": "display_data",
          "data": {
            "text/plain": [
              "<Figure size 432x432 with 3 Axes>"
            ],
            "image/png": "[encoded data removed]"
          },
          "metadata": {}
        }
      ]
    },
    {
      "cell_type": "code",
      "metadata": {
        "id": "YUDwLTV1NXuF",
        "outputId": "97943c07-da09-4192-84f2-2be74950ec19",
        "colab": {
          "base_uri": "https://localhost:8080/",
          "height": 340
        }
      },
      "source": [
        "#dataset visualization histogram\n",
        "sns.distplot(dataset['trtbps'])\n",
        "plt.savefig('ex2.png')"
      ],
      "execution_count": 276,
      "outputs": [
        {
          "output_type": "stream",
          "name": "stderr",
          "text": [
            "/usr/local/lib/python3.8/dist-packages/seaborn/distributions.py:2619: FutureWarning: `distplot` is a deprecated function and will be removed in a future version. Please adapt your code to use either `displot` (a figure-level function with similar flexibility) or `histplot` (an axes-level function for histograms).\n",
            "  warnings.warn(msg, FutureWarning)\n"
          ]
        },
        {
          "output_type": "display_data",
          "data": {
            "text/plain": [
              "<Figure size 432x288 with 1 Axes>"
            ],
            "image/png": "[encoded data removed]"
          },
          "metadata": {}
        }
      ]
    },
    {
      "cell_type": "code",
      "metadata": {
        "id": "8H6BaN5ONXuF",
        "outputId": "59597a80-4558-4faf-92a1-fd9497a55d52",
        "colab": {
          "base_uri": "https://localhost:8080/",
          "height": 548
        }
      },
      "source": [
        "#dataset visualization pair plot\n",
        "sns.pairplot(dataset[['age', 'trtbps', 'thalachh']])\n",
        "plt.savefig('ex3.png')"
      ],
      "execution_count": 277,
      "outputs": [
        {
          "output_type": "display_data",
          "data": {
            "text/plain": [
              "<Figure size 540x540 with 12 Axes>"
            ],
            "image/png": "[encoded data removed]"
          },
          "metadata": {}
        }
      ]
    },
    {
      "cell_type": "code",
      "metadata": {
        "id": "Qku73FVBNXuG",
        "outputId": "a47b8612-6f47-4f32-ee1e-07acc1297ae9",
        "colab": {
          "base_uri": "https://localhost:8080/",
          "height": 340
        }
      },
      "source": [
        "#dataset visualization count plot\n",
        "sns.countplot(dataset['chol'])\n",
        "plt.savefig('ex4.png')"
      ],
      "execution_count": 278,
      "outputs": [
        {
          "output_type": "stream",
          "name": "stderr",
          "text": [
            "/usr/local/lib/python3.8/dist-packages/seaborn/_decorators.py:36: FutureWarning: Pass the following variable as a keyword arg: x. From version 0.12, the only valid positional argument will be `data`, and passing other arguments without an explicit keyword will result in an error or misinterpretation.\n",
            "  warnings.warn(\n"
          ]
        },
        {
          "output_type": "display_data",
          "data": {
            "text/plain": [
              "<Figure size 432x288 with 1 Axes>"
            ],
            "image/png": "[encoded data removed]"
          },
          "metadata": {}
        }
      ]
    },
    {
      "cell_type": "code",
      "metadata": {
        "id": "sbPXHv8kNXuG"
      },
      "source": [
        "independent = dataset.iloc[:, :-1].values"
      ],
      "execution_count": 279,
      "outputs": []
    },
    {
      "cell_type": "code",
      "metadata": {
        "id": "QmSr9BhzNXuG",
        "outputId": "fc2c3762-38a9-49c5-f7e4-ab7d976bf4a9",
        "colab": {
          "base_uri": "https://localhost:8080/"
        }
      },
      "source": [
        "independent"
      ],
      "execution_count": 280,
      "outputs": [
        {
          "output_type": "execute_result",
          "data": {
            "text/plain": [
              "array([[65.,  1.,  3., ...,  0.,  0.,  1.],\n",
              "       [37.,  1.,  2., ...,  0.,  0.,  2.],\n",
              "       [41.,  0.,  1., ...,  2.,  0.,  2.],\n",
              "       ...,\n",
              "       [68.,  1.,  0., ...,  1.,  2.,  3.],\n",
              "       [57.,  1.,  0., ...,  1.,  1.,  3.],\n",
              "       [57.,  0.,  1., ...,  1.,  1.,  2.]])"
            ]
          },
          "metadata": {},
          "execution_count": 280
        }
      ]
    },
    {
      "cell_type": "code",
      "metadata": {
        "id": "30f6bz_INXuH"
      },
      "source": [
        "dependent = dataset.iloc[:, -1].values"
      ],
      "execution_count": 281,
      "outputs": []
    },
    {
      "cell_type": "code",
      "metadata": {
        "id": "xoMnLYpYNXuH",
        "outputId": "9113b4a8-c379-4dc9-a2c5-05cfae1fba78",
        "colab": {
          "base_uri": "https://localhost:8080/"
        }
      },
      "source": [
        "dependent"
      ],
      "execution_count": 282,
      "outputs": [
        {
          "output_type": "execute_result",
          "data": {
            "text/plain": [
              "array([1, 1, 1, 1, 1, 1, 1, 1, 1, 1, 1, 1, 1, 1, 1, 1, 1, 1, 1, 1, 1, 1,\n",
              "       1, 1, 1, 1, 1, 1, 1, 1, 1, 1, 1, 1, 1, 1, 1, 1, 1, 1, 1, 1, 1, 1,\n",
              "       1, 1, 1, 1, 1, 1, 1, 1, 1, 1, 1, 1, 1, 1, 1, 1, 1, 1, 1, 1, 1, 1,\n",
              "       1, 1, 1, 1, 1, 1, 1, 1, 1, 1, 1, 1, 1, 1, 1, 1, 1, 1, 1, 1, 1, 1,\n",
              "       1, 1, 1, 1, 1, 1, 1, 1, 1, 1, 1, 1, 1, 1, 1, 1, 1, 1, 1, 1, 1, 1,\n",
              "       1, 1, 1, 1, 1, 1, 1, 1, 1, 1, 1, 1, 1, 1, 1, 1, 1, 1, 1, 1, 1, 1,\n",
              "       1, 1, 1, 1, 1, 1, 1, 1, 1, 1, 1, 1, 1, 1, 1, 1, 1, 1, 1, 1, 1, 1,\n",
              "       1, 1, 1, 1, 1, 1, 1, 1, 1, 1, 1, 0, 0, 0, 0, 0, 0, 0, 0, 0, 0, 0,\n",
              "       0, 0, 0, 0, 0, 0, 0, 0, 0, 0, 0, 0, 0, 0, 0, 0, 0, 0, 0, 0, 0, 0,\n",
              "       0, 0, 0, 0, 0, 0, 0, 0, 0, 0, 0, 0, 0, 0, 0, 0, 0, 0, 0, 0, 0, 0,\n",
              "       0, 0, 0, 0, 0, 0, 0, 0, 0, 0, 0, 0, 0, 0, 0, 0, 0, 0, 0, 0, 0, 0,\n",
              "       0, 0, 0, 0, 0, 0, 0, 0, 0, 0, 0, 0, 0, 0, 0, 0, 0, 0, 0, 0, 0, 0,\n",
              "       0, 0, 0, 0, 0, 0, 0, 0, 0, 0, 0, 0, 0, 0, 0, 0, 0, 0, 0, 0, 0, 0,\n",
              "       0, 0, 0, 0, 0, 0, 0, 0, 0, 0, 0, 0, 0, 0, 0, 0, 0])"
            ]
          },
          "metadata": {},
          "execution_count": 282
        }
      ]
    },
    {
      "cell_type": "code",
      "metadata": {
        "id": "2QCHt8kxNXuH"
      },
      "source": [
        "#train_test_split\n",
        "x_train, x_test, y_train, y_test= train_test_split(independent,dependent,test_size=0.2,random_state=5)"
      ],
      "execution_count": 283,
      "outputs": []
    },
    {
      "cell_type": "code",
      "metadata": {
        "id": "JSks3k2zNXuH",
        "outputId": "d89da2bd-88e0-45d4-c60d-54e4125777f3",
        "colab": {
          "base_uri": "https://localhost:8080/"
        }
      },
      "source": [
        "x_train"
      ],
      "execution_count": 284,
      "outputs": [
        {
          "output_type": "execute_result",
          "data": {
            "text/plain": [
              "array([[55.,  0.,  0., ...,  1.,  0.,  2.],\n",
              "       [43.,  0.,  0., ...,  1.,  0.,  3.],\n",
              "       [53.,  1.,  2., ...,  2.,  3.,  2.],\n",
              "       ...,\n",
              "       [46.,  0.,  1., ...,  2.,  0.,  2.],\n",
              "       [41.,  1.,  0., ...,  2.,  0.,  3.],\n",
              "       [59.,  1.,  0., ...,  1.,  1.,  3.]])"
            ]
          },
          "metadata": {},
          "execution_count": 284
        }
      ]
    },
    {
      "cell_type": "code",
      "metadata": {
        "id": "DnhQIs2bNXuI",
        "outputId": "9bca7f71-356b-4fbb-efe3-5667057e8736",
        "colab": {
          "base_uri": "https://localhost:8080/"
        }
      },
      "source": [
        "x_test"
      ],
      "execution_count": 285,
      "outputs": [
        {
          "output_type": "execute_result",
          "data": {
            "text/plain": [
              "array([[5.70e+01, 0.00e+00, 1.00e+00, 1.30e+02, 2.36e+02, 0.00e+00,\n",
              "        0.00e+00, 1.74e+02, 0.00e+00, 0.00e+00, 1.00e+00, 1.00e+00,\n",
              "        2.00e+00],\n",
              "       [5.70e+01, 1.00e+00, 0.00e+00, 1.52e+02, 2.74e+02, 0.00e+00,\n",
              "        1.00e+00, 8.80e+01, 1.00e+00, 1.20e+00, 1.00e+00, 1.00e+00,\n",
              "        3.00e+00],\n",
              "       [5.40e+01, 1.00e+00, 0.00e+00, 1.22e+02, 2.86e+02, 0.00e+00,\n",
              "        0.00e+00, 1.16e+02, 1.00e+00, 3.20e+00, 1.00e+00, 2.00e+00,\n",
              "        2.00e+00],\n",
              "       [6.10e+01, 0.00e+00, 0.00e+00, 1.45e+02, 3.07e+02, 0.00e+00,\n",
              "        0.00e+00, 1.46e+02, 1.00e+00, 1.00e+00, 1.00e+00, 0.00e+00,\n",
              "        3.00e+00],\n",
              "       [4.00e+01, 1.00e+00, 3.00e+00, 1.40e+02, 1.99e+02, 0.00e+00,\n",
              "        1.00e+00, 1.78e+02, 1.00e+00, 1.40e+00, 2.00e+00, 0.00e+00,\n",
              "        3.00e+00],\n",
              "       [6.10e+01, 1.00e+00, 0.00e+00, 1.40e+02, 2.07e+02, 0.00e+00,\n",
              "        0.00e+00, 1.38e+02, 1.00e+00, 1.90e+00, 2.00e+00, 1.00e+00,\n",
              "        3.00e+00],\n",
              "       [5.60e+01, 1.00e+00, 1.00e+00, 1.30e+02, 2.21e+02, 0.00e+00,\n",
              "        0.00e+00, 1.63e+02, 0.00e+00, 0.00e+00, 2.00e+00, 0.00e+00,\n",
              "        3.00e+00],\n",
              "       [6.30e+01, 1.00e+00, 0.00e+00, 1.40e+02, 1.87e+02, 0.00e+00,\n",
              "        0.00e+00, 1.44e+02, 1.00e+00, 4.00e+00, 2.00e+00, 2.00e+00,\n",
              "        3.00e+00],\n",
              "       [5.10e+01, 0.00e+00, 2.00e+00, 1.30e+02, 2.56e+02, 0.00e+00,\n",
              "        0.00e+00, 1.49e+02, 0.00e+00, 5.00e-01, 2.00e+00, 0.00e+00,\n",
              "        2.00e+00],\n",
              "       [3.80e+01, 1.00e+00, 2.00e+00, 1.38e+02, 1.75e+02, 0.00e+00,\n",
              "        1.00e+00, 1.73e+02, 0.00e+00, 0.00e+00, 2.00e+00, 4.00e+00,\n",
              "        2.00e+00],\n",
              "       [5.30e+01, 0.00e+00, 0.00e+00, 1.30e+02, 2.64e+02, 0.00e+00,\n",
              "        0.00e+00, 1.43e+02, 0.00e+00, 4.00e-01, 1.00e+00, 0.00e+00,\n",
              "        2.00e+00],\n",
              "       [5.90e+01, 1.00e+00, 0.00e+00, 1.70e+02, 3.26e+02, 0.00e+00,\n",
              "        0.00e+00, 1.40e+02, 1.00e+00, 3.40e+00, 0.00e+00, 0.00e+00,\n",
              "        3.00e+00],\n",
              "       [4.80e+01, 1.00e+00, 2.00e+00, 1.24e+02, 2.55e+02, 1.00e+00,\n",
              "        1.00e+00, 1.75e+02, 0.00e+00, 0.00e+00, 2.00e+00, 2.00e+00,\n",
              "        2.00e+00],\n",
              "       [3.90e+01, 0.00e+00, 2.00e+00, 1.38e+02, 2.20e+02, 0.00e+00,\n",
              "        1.00e+00, 1.52e+02, 0.00e+00, 0.00e+00, 1.00e+00, 0.00e+00,\n",
              "        2.00e+00],\n",
              "       [6.70e+01, 1.00e+00, 0.00e+00, 1.20e+02, 2.37e+02, 0.00e+00,\n",
              "        1.00e+00, 7.10e+01, 0.00e+00, 1.00e+00, 1.00e+00, 0.00e+00,\n",
              "        2.00e+00],\n",
              "       [6.20e+01, 0.00e+00, 0.00e+00, 1.40e+02, 2.68e+02, 0.00e+00,\n",
              "        0.00e+00, 1.60e+02, 0.00e+00, 3.60e+00, 0.00e+00, 2.00e+00,\n",
              "        2.00e+00],\n",
              "       [4.60e+01, 1.00e+00, 0.00e+00, 1.20e+02, 2.49e+02, 0.00e+00,\n",
              "        0.00e+00, 1.44e+02, 0.00e+00, 8.00e-01, 2.00e+00, 0.00e+00,\n",
              "        3.00e+00],\n",
              "       [4.40e+01, 1.00e+00, 0.00e+00, 1.10e+02, 1.97e+02, 0.00e+00,\n",
              "        0.00e+00, 1.77e+02, 0.00e+00, 0.00e+00, 2.00e+00, 1.00e+00,\n",
              "        2.00e+00],\n",
              "       [7.10e+01, 0.00e+00, 2.00e+00, 1.10e+02, 2.65e+02, 1.00e+00,\n",
              "        0.00e+00, 1.30e+02, 0.00e+00, 0.00e+00, 2.00e+00, 1.00e+00,\n",
              "        2.00e+00],\n",
              "       [5.50e+01, 0.00e+00, 0.00e+00, 1.28e+02, 2.05e+02, 0.00e+00,\n",
              "        2.00e+00, 1.30e+02, 1.00e+00, 2.00e+00, 1.00e+00, 1.00e+00,\n",
              "        3.00e+00],\n",
              "       [5.80e+01, 1.00e+00, 0.00e+00, 1.28e+02, 2.16e+02, 0.00e+00,\n",
              "        0.00e+00, 1.31e+02, 1.00e+00, 2.20e+00, 1.00e+00, 3.00e+00,\n",
              "        3.00e+00],\n",
              "       [6.00e+01, 1.00e+00, 0.00e+00, 1.30e+02, 2.53e+02, 0.00e+00,\n",
              "        1.00e+00, 1.44e+02, 1.00e+00, 1.40e+00, 2.00e+00, 1.00e+00,\n",
              "        3.00e+00],\n",
              "       [5.20e+01, 1.00e+00, 3.00e+00, 1.18e+02, 1.86e+02, 0.00e+00,\n",
              "        0.00e+00, 1.90e+02, 0.00e+00, 0.00e+00, 1.00e+00, 0.00e+00,\n",
              "        1.00e+00],\n",
              "       [6.30e+01, 0.00e+00, 0.00e+00, 1.50e+02, 4.07e+02, 0.00e+00,\n",
              "        0.00e+00, 1.54e+02, 0.00e+00, 4.00e+00, 1.00e+00, 3.00e+00,\n",
              "        3.00e+00],\n",
              "       [4.50e+01, 1.00e+00, 0.00e+00, 1.04e+02, 2.08e+02, 0.00e+00,\n",
              "        0.00e+00, 1.48e+02, 1.00e+00, 3.00e+00, 1.00e+00, 0.00e+00,\n",
              "        2.00e+00],\n",
              "       [4.80e+01, 1.00e+00, 0.00e+00, 1.22e+02, 2.22e+02, 0.00e+00,\n",
              "        0.00e+00, 1.86e+02, 0.00e+00, 0.00e+00, 2.00e+00, 0.00e+00,\n",
              "        2.00e+00],\n",
              "       [5.40e+01, 1.00e+00, 1.00e+00, 1.08e+02, 3.09e+02, 0.00e+00,\n",
              "        1.00e+00, 1.56e+02, 0.00e+00, 0.00e+00, 2.00e+00, 0.00e+00,\n",
              "        3.00e+00],\n",
              "       [5.40e+01, 0.00e+00, 2.00e+00, 1.10e+02, 2.14e+02, 0.00e+00,\n",
              "        1.00e+00, 1.58e+02, 0.00e+00, 1.60e+00, 1.00e+00, 0.00e+00,\n",
              "        2.00e+00],\n",
              "       [5.30e+01, 0.00e+00, 2.00e+00, 1.28e+02, 2.16e+02, 0.00e+00,\n",
              "        0.00e+00, 1.15e+02, 0.00e+00, 0.00e+00, 2.00e+00, 0.00e+00,\n",
              "        0.00e+00],\n",
              "       [4.30e+01, 1.00e+00, 0.00e+00, 1.20e+02, 1.77e+02, 0.00e+00,\n",
              "        0.00e+00, 1.20e+02, 1.00e+00, 2.50e+00, 1.00e+00, 0.00e+00,\n",
              "        3.00e+00],\n",
              "       [6.70e+01, 0.00e+00, 2.00e+00, 1.52e+02, 2.77e+02, 0.00e+00,\n",
              "        1.00e+00, 1.72e+02, 0.00e+00, 0.00e+00, 2.00e+00, 1.00e+00,\n",
              "        2.00e+00],\n",
              "       [4.20e+01, 1.00e+00, 1.00e+00, 1.20e+02, 2.95e+02, 0.00e+00,\n",
              "        1.00e+00, 1.62e+02, 0.00e+00, 0.00e+00, 2.00e+00, 0.00e+00,\n",
              "        2.00e+00],\n",
              "       [5.40e+01, 1.00e+00, 2.00e+00, 1.25e+02, 2.73e+02, 0.00e+00,\n",
              "        0.00e+00, 1.52e+02, 0.00e+00, 5.00e-01, 0.00e+00, 1.00e+00,\n",
              "        2.00e+00],\n",
              "       [5.40e+01, 0.00e+00, 1.00e+00, 1.32e+02, 2.88e+02, 1.00e+00,\n",
              "        0.00e+00, 1.59e+02, 1.00e+00, 0.00e+00, 2.00e+00, 1.00e+00,\n",
              "        2.00e+00],\n",
              "       [6.00e+01, 1.00e+00, 0.00e+00, 1.17e+02, 2.30e+02, 1.00e+00,\n",
              "        1.00e+00, 1.60e+02, 1.00e+00, 1.40e+00, 2.00e+00, 2.00e+00,\n",
              "        3.00e+00],\n",
              "       [7.00e+01, 1.00e+00, 0.00e+00, 1.30e+02, 3.22e+02, 0.00e+00,\n",
              "        0.00e+00, 1.09e+02, 0.00e+00, 2.40e+00, 1.00e+00, 3.00e+00,\n",
              "        2.00e+00],\n",
              "       [5.30e+01, 0.00e+00, 0.00e+00, 1.38e+02, 2.34e+02, 0.00e+00,\n",
              "        0.00e+00, 1.60e+02, 0.00e+00, 0.00e+00, 2.00e+00, 0.00e+00,\n",
              "        2.00e+00],\n",
              "       [4.40e+01, 1.00e+00, 2.00e+00, 1.30e+02, 2.33e+02, 0.00e+00,\n",
              "        1.00e+00, 1.79e+02, 1.00e+00, 4.00e-01, 2.00e+00, 0.00e+00,\n",
              "        2.00e+00],\n",
              "       [6.40e+01, 1.00e+00, 0.00e+00, 1.45e+02, 2.12e+02, 0.00e+00,\n",
              "        0.00e+00, 1.32e+02, 0.00e+00, 2.00e+00, 1.00e+00, 2.00e+00,\n",
              "        1.00e+00],\n",
              "       [6.20e+01, 0.00e+00, 0.00e+00, 1.40e+02, 3.94e+02, 0.00e+00,\n",
              "        0.00e+00, 1.57e+02, 0.00e+00, 1.20e+00, 1.00e+00, 0.00e+00,\n",
              "        2.00e+00],\n",
              "       [5.60e+01, 1.00e+00, 3.00e+00, 1.20e+02, 1.93e+02, 0.00e+00,\n",
              "        0.00e+00, 1.62e+02, 0.00e+00, 1.90e+00, 1.00e+00, 0.00e+00,\n",
              "        3.00e+00],\n",
              "       [5.30e+01, 1.00e+00, 0.00e+00, 1.42e+02, 2.26e+02, 0.00e+00,\n",
              "        0.00e+00, 1.11e+02, 1.00e+00, 0.00e+00, 2.00e+00, 0.00e+00,\n",
              "        3.00e+00],\n",
              "       [5.10e+01, 1.00e+00, 2.00e+00, 1.00e+02, 2.22e+02, 0.00e+00,\n",
              "        1.00e+00, 1.43e+02, 1.00e+00, 1.20e+00, 1.00e+00, 0.00e+00,\n",
              "        2.00e+00],\n",
              "       [6.20e+01, 1.00e+00, 0.00e+00, 1.20e+02, 2.67e+02, 0.00e+00,\n",
              "        1.00e+00, 9.90e+01, 1.00e+00, 1.80e+00, 1.00e+00, 2.00e+00,\n",
              "        3.00e+00],\n",
              "       [7.70e+01, 1.00e+00, 0.00e+00, 1.25e+02, 3.04e+02, 0.00e+00,\n",
              "        0.00e+00, 1.62e+02, 1.00e+00, 0.00e+00, 2.00e+00, 3.00e+00,\n",
              "        2.00e+00],\n",
              "       [5.60e+01, 0.00e+00, 0.00e+00, 1.34e+02, 4.09e+02, 0.00e+00,\n",
              "        0.00e+00, 1.50e+02, 1.00e+00, 1.90e+00, 1.00e+00, 2.00e+00,\n",
              "        3.00e+00],\n",
              "       [6.00e+01, 1.00e+00, 0.00e+00, 1.45e+02, 2.82e+02, 0.00e+00,\n",
              "        0.00e+00, 1.42e+02, 1.00e+00, 2.80e+00, 1.00e+00, 2.00e+00,\n",
              "        3.00e+00],\n",
              "       [6.50e+01, 0.00e+00, 0.00e+00, 1.50e+02, 2.25e+02, 0.00e+00,\n",
              "        0.00e+00, 1.14e+02, 0.00e+00, 1.00e+00, 1.00e+00, 3.00e+00,\n",
              "        3.00e+00],\n",
              "       [4.80e+01, 1.00e+00, 0.00e+00, 1.30e+02, 2.56e+02, 1.00e+00,\n",
              "        0.00e+00, 1.50e+02, 1.00e+00, 0.00e+00, 2.00e+00, 2.00e+00,\n",
              "        3.00e+00],\n",
              "       [5.60e+01, 0.00e+00, 0.00e+00, 2.00e+02, 2.88e+02, 1.00e+00,\n",
              "        0.00e+00, 1.33e+02, 1.00e+00, 4.00e+00, 0.00e+00, 2.00e+00,\n",
              "        3.00e+00],\n",
              "       [5.60e+01, 1.00e+00, 0.00e+00, 1.30e+02, 2.83e+02, 1.00e+00,\n",
              "        0.00e+00, 1.03e+02, 1.00e+00, 1.60e+00, 0.00e+00, 0.00e+00,\n",
              "        3.00e+00],\n",
              "       [4.30e+01, 1.00e+00, 2.00e+00, 1.30e+02, 3.15e+02, 0.00e+00,\n",
              "        1.00e+00, 1.62e+02, 0.00e+00, 1.90e+00, 2.00e+00, 1.00e+00,\n",
              "        2.00e+00],\n",
              "       [6.50e+01, 0.00e+00, 2.00e+00, 1.60e+02, 3.60e+02, 0.00e+00,\n",
              "        0.00e+00, 1.51e+02, 0.00e+00, 8.00e-01, 2.00e+00, 0.00e+00,\n",
              "        2.00e+00],\n",
              "       [4.20e+01, 0.00e+00, 0.00e+00, 1.02e+02, 2.65e+02, 0.00e+00,\n",
              "        0.00e+00, 1.22e+02, 0.00e+00, 6.00e-01, 1.00e+00, 0.00e+00,\n",
              "        2.00e+00],\n",
              "       [3.70e+01, 0.00e+00, 2.00e+00, 1.20e+02, 2.15e+02, 0.00e+00,\n",
              "        1.00e+00, 1.70e+02, 0.00e+00, 0.00e+00, 2.00e+00, 0.00e+00,\n",
              "        2.00e+00],\n",
              "       [7.00e+01, 1.00e+00, 1.00e+00, 1.56e+02, 2.45e+02, 0.00e+00,\n",
              "        0.00e+00, 1.43e+02, 0.00e+00, 0.00e+00, 2.00e+00, 0.00e+00,\n",
              "        2.00e+00],\n",
              "       [7.10e+01, 0.00e+00, 1.00e+00, 1.60e+02, 3.02e+02, 0.00e+00,\n",
              "        1.00e+00, 1.62e+02, 0.00e+00, 4.00e-01, 2.00e+00, 2.00e+00,\n",
              "        2.00e+00],\n",
              "       [3.80e+01, 1.00e+00, 3.00e+00, 1.20e+02, 2.31e+02, 0.00e+00,\n",
              "        1.00e+00, 1.82e+02, 1.00e+00, 3.80e+00, 1.00e+00, 0.00e+00,\n",
              "        3.00e+00],\n",
              "       [4.60e+01, 1.00e+00, 2.00e+00, 1.50e+02, 2.31e+02, 0.00e+00,\n",
              "        1.00e+00, 1.47e+02, 0.00e+00, 3.60e+00, 1.00e+00, 0.00e+00,\n",
              "        2.00e+00],\n",
              "       [4.20e+01, 1.00e+00, 2.00e+00, 1.30e+02, 1.80e+02, 0.00e+00,\n",
              "        1.00e+00, 1.50e+02, 0.00e+00, 0.00e+00, 2.00e+00, 0.00e+00,\n",
              "        2.00e+00],\n",
              "       [3.90e+01, 1.00e+00, 0.00e+00, 1.18e+02, 2.19e+02, 0.00e+00,\n",
              "        1.00e+00, 1.40e+02, 0.00e+00, 1.20e+00, 1.00e+00, 0.00e+00,\n",
              "        3.00e+00]])"
            ]
          },
          "metadata": {},
          "execution_count": 285
        }
      ]
    },
    {
      "cell_type": "code",
      "metadata": {
        "id": "K2g1diqnNXuI"
      },
      "source": [
        "dataset.drop('chol',axis=1,inplace=True)"
      ],
      "execution_count": 286,
      "outputs": []
    },
    {
      "cell_type": "code",
      "metadata": {
        "id": "pxmir88DNXuI",
        "outputId": "0b1f7738-24d8-48ff-aad8-5da3d253125c",
        "colab": {
          "base_uri": "https://localhost:8080/",
          "height": 206
        }
      },
      "source": [
        "dataset.head()"
      ],
      "execution_count": 287,
      "outputs": [
        {
          "output_type": "execute_result",
          "data": {
            "text/plain": [
              "   age  sex  cp  trtbps  fbs  restecg  thalachh  exng  oldpeak  slp  caa  \\\n",
              "0   65    1   3     145    1        0       150     0      2.3    0    0   \n",
              "1   37    1   2     130    0        1       187     0      3.5    0    0   \n",
              "2   41    0   1     130    0        0       172     0      1.4    2    0   \n",
              "3   56    1   1     120    0        1       178     0      0.8    2    0   \n",
              "4   57    0   0     120    0        1       163     1      0.6    2    0   \n",
              "\n",
              "   thall  output  \n",
              "0      1       1  \n",
              "1      2       1  \n",
              "2      2       1  \n",
              "3      2       1  \n",
              "4      2       1  "
            ],
            "text/html": [
              "\n",
              "  <div id=\"df-bf8a1674-76a9-4c39-a5f2-3ccf810bf431\">\n",
              "    <div class=\"colab-df-container\">\n",
              "      <div>\n",
              "<style scoped>\n",
              "    .dataframe tbody tr th:only-of-type {\n",
              "        vertical-align: middle;\n",
              "    }\n",
              "\n",
              "    .dataframe tbody tr th {\n",
              "        vertical-align: top;\n",
              "    }\n",
              "\n",
              "    .dataframe thead th {\n",
              "        text-align: right;\n",
              "    }\n",
              "</style>\n",
              "<table border=\"1\" class=\"dataframe\">\n",
              "  <thead>\n",
              "    <tr style=\"text-align: right;\">\n",
              "      <th></th>\n",
              "      <th>age</th>\n",
              "      <th>sex</th>\n",
              "      <th>cp</th>\n",
              "      <th>trtbps</th>\n",
              "      <th>fbs</th>\n",
              "      <th>restecg</th>\n",
              "      <th>thalachh</th>\n",
              "      <th>exng</th>\n",
              "      <th>oldpeak</th>\n",
              "      <th>slp</th>\n",
              "      <th>caa</th>\n",
              "      <th>thall</th>\n",
              "      <th>output</th>\n",
              "    </tr>\n",
              "  </thead>\n",
              "  <tbody>\n",
              "    <tr>\n",
              "      <th>0</th>\n",
              "      <td>65</td>\n",
              "      <td>1</td>\n",
              "      <td>3</td>\n",
              "      <td>145</td>\n",
              "      <td>1</td>\n",
              "      <td>0</td>\n",
              "      <td>150</td>\n",
              "      <td>0</td>\n",
              "      <td>2.3</td>\n",
              "      <td>0</td>\n",
              "      <td>0</td>\n",
              "      <td>1</td>\n",
              "      <td>1</td>\n",
              "    </tr>\n",
              "    <tr>\n",
              "      <th>1</th>\n",
              "      <td>37</td>\n",
              "      <td>1</td>\n",
              "      <td>2</td>\n",
              "      <td>130</td>\n",
              "      <td>0</td>\n",
              "      <td>1</td>\n",
              "      <td>187</td>\n",
              "      <td>0</td>\n",
              "      <td>3.5</td>\n",
              "      <td>0</td>\n",
              "      <td>0</td>\n",
              "      <td>2</td>\n",
              "      <td>1</td>\n",
              "    </tr>\n",
              "    <tr>\n",
              "      <th>2</th>\n",
              "      <td>41</td>\n",
              "      <td>0</td>\n",
              "      <td>1</td>\n",
              "      <td>130</td>\n",
              "      <td>0</td>\n",
              "      <td>0</td>\n",
              "      <td>172</td>\n",
              "      <td>0</td>\n",
              "      <td>1.4</td>\n",
              "      <td>2</td>\n",
              "      <td>0</td>\n",
              "      <td>2</td>\n",
              "      <td>1</td>\n",
              "    </tr>\n",
              "    <tr>\n",
              "      <th>3</th>\n",
              "      <td>56</td>\n",
              "      <td>1</td>\n",
              "      <td>1</td>\n",
              "      <td>120</td>\n",
              "      <td>0</td>\n",
              "      <td>1</td>\n",
              "      <td>178</td>\n",
              "      <td>0</td>\n",
              "      <td>0.8</td>\n",
              "      <td>2</td>\n",
              "      <td>0</td>\n",
              "      <td>2</td>\n",
              "      <td>1</td>\n",
              "    </tr>\n",
              "    <tr>\n",
              "      <th>4</th>\n",
              "      <td>57</td>\n",
              "      <td>0</td>\n",
              "      <td>0</td>\n",
              "      <td>120</td>\n",
              "      <td>0</td>\n",
              "      <td>1</td>\n",
              "      <td>163</td>\n",
              "      <td>1</td>\n",
              "      <td>0.6</td>\n",
              "      <td>2</td>\n",
              "      <td>0</td>\n",
              "      <td>2</td>\n",
              "      <td>1</td>\n",
              "    </tr>\n",
              "  </tbody>\n",
              "</table>\n",
              "</div>\n",
              "      <button class=\"colab-df-convert\" onclick=\"convertToInteractive('df-bf8a1674-76a9-4c39-a5f2-3ccf810bf431')\"\n",
              "              title=\"Convert this dataframe to an interactive table.\"\n",
              "              style=\"display:none;\">\n",
              "        \n",
              "  <svg xmlns=\"http://www.w3.org/2000/svg\" height=\"24px\"viewBox=\"0 0 24 24\"\n",
              "       width=\"24px\">\n",
              "    <path d=\"M0 0h24v24H0V0z\" fill=\"none\"/>\n",
              "    <path d=\"M18.56 5.44l.94 2.06.94-2.06 2.06-.94-2.06-.94-.94-2.06-.94 2.06-2.06.94zm-11 1L8.5 8.5l.94-2.06 2.06-.94-2.06-.94L8.5 2.5l-.94 2.06-2.06.94zm10 10l.94 2.06.94-2.06 2.06-.94-2.06-.94-.94-2.06-.94 2.06-2.06.94z\"/><path d=\"M17.41 7.96l-1.37-1.37c-.4-.4-.92-.59-1.43-.59-.52 0-1.04.2-1.43.59L10.3 9.45l-7.72 7.72c-.78.78-.78 2.05 0 2.83L4 21.41c.39.39.9.59 1.41.59.51 0 1.02-.2 1.41-.59l7.78-7.78 2.81-2.81c.8-.78.8-2.07 0-2.86zM5.41 20L4 18.59l7.72-7.72 1.47 1.35L5.41 20z\"/>\n",
              "  </svg>\n",
              "      </button>\n",
              "      \n",
              "  <style>\n",
              "    .colab-df-container {\n",
              "      display:flex;\n",
              "      flex-wrap:wrap;\n",
              "      gap: 12px;\n",
              "    }\n",
              "\n",
              "    .colab-df-convert {\n",
              "      background-color: #E8F0FE;\n",
              "      border: none;\n",
              "      border-radius: 50%;\n",
              "      cursor: pointer;\n",
              "      display: none;\n",
              "      fill: #1967D2;\n",
              "      height: 32px;\n",
              "      padding: 0 0 0 0;\n",
              "      width: 32px;\n",
              "    }\n",
              "\n",
              "    .colab-df-convert:hover {\n",
              "      background-color: #E2EBFA;\n",
              "      box-shadow: 0px 1px 2px rgba(60, 64, 67, 0.3), 0px 1px 3px 1px rgba(60, 64, 67, 0.15);\n",
              "      fill: #174EA6;\n",
              "    }\n",
              "\n",
              "    [theme=dark] .colab-df-convert {\n",
              "      background-color: #3B4455;\n",
              "      fill: #D2E3FC;\n",
              "    }\n",
              "\n",
              "    [theme=dark] .colab-df-convert:hover {\n",
              "      background-color: #434B5C;\n",
              "      box-shadow: 0px 1px 3px 1px rgba(0, 0, 0, 0.15);\n",
              "      filter: drop-shadow(0px 1px 2px rgba(0, 0, 0, 0.3));\n",
              "      fill: #FFFFFF;\n",
              "    }\n",
              "  </style>\n",
              "\n",
              "      <script>\n",
              "        const buttonEl =\n",
              "          document.querySelector('#df-bf8a1674-76a9-4c39-a5f2-3ccf810bf431 button.colab-df-convert');\n",
              "        buttonEl.style.display =\n",
              "          google.colab.kernel.accessAllowed ? 'block' : 'none';\n",
              "\n",
              "        async function convertToInteractive(key) {\n",
              "          const element = document.querySelector('#df-bf8a1674-76a9-4c39-a5f2-3ccf810bf431');\n",
              "          const dataTable =\n",
              "            await google.colab.kernel.invokeFunction('convertToInteractive',\n",
              "                                                     [key], {});\n",
              "          if (!dataTable) return;\n",
              "\n",
              "          const docLinkHtml = 'Like what you see? Visit the ' +\n",
              "            '<a target=\"_blank\" href=https://colab.research.google.com/notebooks/data_table.ipynb>data table notebook</a>'\n",
              "            + ' to learn more about interactive tables.';\n",
              "          element.innerHTML = '';\n",
              "          dataTable['output_type'] = 'display_data';\n",
              "          await google.colab.output.renderOutput(dataTable, element);\n",
              "          const docLink = document.createElement('div');\n",
              "          docLink.innerHTML = docLinkHtml;\n",
              "          element.appendChild(docLink);\n",
              "        }\n",
              "      </script>\n",
              "    </div>\n",
              "  </div>\n",
              "  "
            ]
          },
          "metadata": {},
          "execution_count": 287
        }
      ]
    },
    {
      "cell_type": "code",
      "metadata": {
        "id": "8EpNV-WqNXuI",
        "outputId": "5a8d9686-de2b-4044-87c6-299e6738af2e",
        "colab": {
          "base_uri": "https://localhost:8080/"
        }
      },
      "source": [
        "dataset.output.value_counts()"
      ],
      "execution_count": 288,
      "outputs": [
        {
          "output_type": "execute_result",
          "data": {
            "text/plain": [
              "1    165\n",
              "0    138\n",
              "Name: output, dtype: int64"
            ]
          },
          "metadata": {},
          "execution_count": 288
        }
      ]
    },
    {
      "cell_type": "code",
      "metadata": {
        "id": "Ku7QvDZBNXuI"
      },
      "source": [
        "encode = LabelEncoder()\n",
        "dataset.output = encode.fit_transform(dataset.output)"
      ],
      "execution_count": 289,
      "outputs": []
    },
    {
      "cell_type": "code",
      "metadata": {
        "id": "f0DtM51vNXuJ",
        "outputId": "f347a488-2eb7-4ecc-eb00-5e303baf5c9d",
        "colab": {
          "base_uri": "https://localhost:8080/"
        }
      },
      "source": [
        "dataset.output.value_counts()"
      ],
      "execution_count": 290,
      "outputs": [
        {
          "output_type": "execute_result",
          "data": {
            "text/plain": [
              "1    165\n",
              "0    138\n",
              "Name: output, dtype: int64"
            ]
          },
          "metadata": {},
          "execution_count": 290
        }
      ]
    },
    {
      "cell_type": "code",
      "metadata": {
        "id": "QRxkCRjsNXuJ"
      },
      "source": [
        "x = dataset.drop('output',axis=1)\n",
        "y = dataset.output"
      ],
      "execution_count": 291,
      "outputs": []
    },
    {
      "cell_type": "code",
      "metadata": {
        "id": "txkt723nNXuJ",
        "outputId": "73451c78-5955-4c96-cb8c-5f4a52948b5e",
        "colab": {
          "base_uri": "https://localhost:8080/",
          "height": 424
        }
      },
      "source": [
        "x"
      ],
      "execution_count": 292,
      "outputs": [
        {
          "output_type": "execute_result",
          "data": {
            "text/plain": [
              "     age  sex  cp  trtbps  fbs  restecg  thalachh  exng  oldpeak  slp  caa  \\\n",
              "0     65    1   3     145    1        0       150     0      2.3    0    0   \n",
              "1     37    1   2     130    0        1       187     0      3.5    0    0   \n",
              "2     41    0   1     130    0        0       172     0      1.4    2    0   \n",
              "3     56    1   1     120    0        1       178     0      0.8    2    0   \n",
              "4     57    0   0     120    0        1       163     1      0.6    2    0   \n",
              "..   ...  ...  ..     ...  ...      ...       ...   ...      ...  ...  ...   \n",
              "298   57    0   0     140    0        1       123     1      0.2    1    0   \n",
              "299   45    1   3     110    0        1       132     0      1.2    1    0   \n",
              "300   68    1   0     144    1        1       141     0      3.4    1    2   \n",
              "301   57    1   0     130    0        1       115     1      1.2    1    1   \n",
              "302   57    0   1     130    0        0       174     0      0.0    1    1   \n",
              "\n",
              "     thall  \n",
              "0        1  \n",
              "1        2  \n",
              "2        2  \n",
              "3        2  \n",
              "4        2  \n",
              "..     ...  \n",
              "298      3  \n",
              "299      3  \n",
              "300      3  \n",
              "301      3  \n",
              "302      2  \n",
              "\n",
              "[303 rows x 12 columns]"
            ],
            "text/html": [
              "\n",
              "  <div id=\"df-9b6971b3-5b67-4807-b7a4-fd7297420b2a\">\n",
              "    <div class=\"colab-df-container\">\n",
              "      <div>\n",
              "<style scoped>\n",
              "    .dataframe tbody tr th:only-of-type {\n",
              "        vertical-align: middle;\n",
              "    }\n",
              "\n",
              "    .dataframe tbody tr th {\n",
              "        vertical-align: top;\n",
              "    }\n",
              "\n",
              "    .dataframe thead th {\n",
              "        text-align: right;\n",
              "    }\n",
              "</style>\n",
              "<table border=\"1\" class=\"dataframe\">\n",
              "  <thead>\n",
              "    <tr style=\"text-align: right;\">\n",
              "      <th></th>\n",
              "      <th>age</th>\n",
              "      <th>sex</th>\n",
              "      <th>cp</th>\n",
              "      <th>trtbps</th>\n",
              "      <th>fbs</th>\n",
              "      <th>restecg</th>\n",
              "      <th>thalachh</th>\n",
              "      <th>exng</th>\n",
              "      <th>oldpeak</th>\n",
              "      <th>slp</th>\n",
              "      <th>caa</th>\n",
              "      <th>thall</th>\n",
              "    </tr>\n",
              "  </thead>\n",
              "  <tbody>\n",
              "    <tr>\n",
              "      <th>0</th>\n",
              "      <td>65</td>\n",
              "      <td>1</td>\n",
              "      <td>3</td>\n",
              "      <td>145</td>\n",
              "      <td>1</td>\n",
              "      <td>0</td>\n",
              "      <td>150</td>\n",
              "      <td>0</td>\n",
              "      <td>2.3</td>\n",
              "      <td>0</td>\n",
              "      <td>0</td>\n",
              "      <td>1</td>\n",
              "    </tr>\n",
              "    <tr>\n",
              "      <th>1</th>\n",
              "      <td>37</td>\n",
              "      <td>1</td>\n",
              "      <td>2</td>\n",
              "      <td>130</td>\n",
              "      <td>0</td>\n",
              "      <td>1</td>\n",
              "      <td>187</td>\n",
              "      <td>0</td>\n",
              "      <td>3.5</td>\n",
              "      <td>0</td>\n",
              "      <td>0</td>\n",
              "      <td>2</td>\n",
              "    </tr>\n",
              "    <tr>\n",
              "      <th>2</th>\n",
              "      <td>41</td>\n",
              "      <td>0</td>\n",
              "      <td>1</td>\n",
              "      <td>130</td>\n",
              "      <td>0</td>\n",
              "      <td>0</td>\n",
              "      <td>172</td>\n",
              "      <td>0</td>\n",
              "      <td>1.4</td>\n",
              "      <td>2</td>\n",
              "      <td>0</td>\n",
              "      <td>2</td>\n",
              "    </tr>\n",
              "    <tr>\n",
              "      <th>3</th>\n",
              "      <td>56</td>\n",
              "      <td>1</td>\n",
              "      <td>1</td>\n",
              "      <td>120</td>\n",
              "      <td>0</td>\n",
              "      <td>1</td>\n",
              "      <td>178</td>\n",
              "      <td>0</td>\n",
              "      <td>0.8</td>\n",
              "      <td>2</td>\n",
              "      <td>0</td>\n",
              "      <td>2</td>\n",
              "    </tr>\n",
              "    <tr>\n",
              "      <th>4</th>\n",
              "      <td>57</td>\n",
              "      <td>0</td>\n",
              "      <td>0</td>\n",
              "      <td>120</td>\n",
              "      <td>0</td>\n",
              "      <td>1</td>\n",
              "      <td>163</td>\n",
              "      <td>1</td>\n",
              "      <td>0.6</td>\n",
              "      <td>2</td>\n",
              "      <td>0</td>\n",
              "      <td>2</td>\n",
              "    </tr>\n",
              "    <tr>\n",
              "      <th>...</th>\n",
              "      <td>...</td>\n",
              "      <td>...</td>\n",
              "      <td>...</td>\n",
              "      <td>...</td>\n",
              "      <td>...</td>\n",
              "      <td>...</td>\n",
              "      <td>...</td>\n",
              "      <td>...</td>\n",
              "      <td>...</td>\n",
              "      <td>...</td>\n",
              "      <td>...</td>\n",
              "      <td>...</td>\n",
              "    </tr>\n",
              "    <tr>\n",
              "      <th>298</th>\n",
              "      <td>57</td>\n",
              "      <td>0</td>\n",
              "      <td>0</td>\n",
              "      <td>140</td>\n",
              "      <td>0</td>\n",
              "      <td>1</td>\n",
              "      <td>123</td>\n",
              "      <td>1</td>\n",
              "      <td>0.2</td>\n",
              "      <td>1</td>\n",
              "      <td>0</td>\n",
              "      <td>3</td>\n",
              "    </tr>\n",
              "    <tr>\n",
              "      <th>299</th>\n",
              "      <td>45</td>\n",
              "      <td>1</td>\n",
              "      <td>3</td>\n",
              "      <td>110</td>\n",
              "      <td>0</td>\n",
              "      <td>1</td>\n",
              "      <td>132</td>\n",
              "      <td>0</td>\n",
              "      <td>1.2</td>\n",
              "      <td>1</td>\n",
              "      <td>0</td>\n",
              "      <td>3</td>\n",
              "    </tr>\n",
              "    <tr>\n",
              "      <th>300</th>\n",
              "      <td>68</td>\n",
              "      <td>1</td>\n",
              "      <td>0</td>\n",
              "      <td>144</td>\n",
              "      <td>1</td>\n",
              "      <td>1</td>\n",
              "      <td>141</td>\n",
              "      <td>0</td>\n",
              "      <td>3.4</td>\n",
              "      <td>1</td>\n",
              "      <td>2</td>\n",
              "      <td>3</td>\n",
              "    </tr>\n",
              "    <tr>\n",
              "      <th>301</th>\n",
              "      <td>57</td>\n",
              "      <td>1</td>\n",
              "      <td>0</td>\n",
              "      <td>130</td>\n",
              "      <td>0</td>\n",
              "      <td>1</td>\n",
              "      <td>115</td>\n",
              "      <td>1</td>\n",
              "      <td>1.2</td>\n",
              "      <td>1</td>\n",
              "      <td>1</td>\n",
              "      <td>3</td>\n",
              "    </tr>\n",
              "    <tr>\n",
              "      <th>302</th>\n",
              "      <td>57</td>\n",
              "      <td>0</td>\n",
              "      <td>1</td>\n",
              "      <td>130</td>\n",
              "      <td>0</td>\n",
              "      <td>0</td>\n",
              "      <td>174</td>\n",
              "      <td>0</td>\n",
              "      <td>0.0</td>\n",
              "      <td>1</td>\n",
              "      <td>1</td>\n",
              "      <td>2</td>\n",
              "    </tr>\n",
              "  </tbody>\n",
              "</table>\n",
              "<p>303 rows × 12 columns</p>\n",
              "</div>\n",
              "      <button class=\"colab-df-convert\" onclick=\"convertToInteractive('df-9b6971b3-5b67-4807-b7a4-fd7297420b2a')\"\n",
              "              title=\"Convert this dataframe to an interactive table.\"\n",
              "              style=\"display:none;\">\n",
              "        \n",
              "  <svg xmlns=\"http://www.w3.org/2000/svg\" height=\"24px\"viewBox=\"0 0 24 24\"\n",
              "       width=\"24px\">\n",
              "    <path d=\"M0 0h24v24H0V0z\" fill=\"none\"/>\n",
              "    <path d=\"M18.56 5.44l.94 2.06.94-2.06 2.06-.94-2.06-.94-.94-2.06-.94 2.06-2.06.94zm-11 1L8.5 8.5l.94-2.06 2.06-.94-2.06-.94L8.5 2.5l-.94 2.06-2.06.94zm10 10l.94 2.06.94-2.06 2.06-.94-2.06-.94-.94-2.06-.94 2.06-2.06.94z\"/><path d=\"M17.41 7.96l-1.37-1.37c-.4-.4-.92-.59-1.43-.59-.52 0-1.04.2-1.43.59L10.3 9.45l-7.72 7.72c-.78.78-.78 2.05 0 2.83L4 21.41c.39.39.9.59 1.41.59.51 0 1.02-.2 1.41-.59l7.78-7.78 2.81-2.81c.8-.78.8-2.07 0-2.86zM5.41 20L4 18.59l7.72-7.72 1.47 1.35L5.41 20z\"/>\n",
              "  </svg>\n",
              "      </button>\n",
              "      \n",
              "  <style>\n",
              "    .colab-df-container {\n",
              "      display:flex;\n",
              "      flex-wrap:wrap;\n",
              "      gap: 12px;\n",
              "    }\n",
              "\n",
              "    .colab-df-convert {\n",
              "      background-color: #E8F0FE;\n",
              "      border: none;\n",
              "      border-radius: 50%;\n",
              "      cursor: pointer;\n",
              "      display: none;\n",
              "      fill: #1967D2;\n",
              "      height: 32px;\n",
              "      padding: 0 0 0 0;\n",
              "      width: 32px;\n",
              "    }\n",
              "\n",
              "    .colab-df-convert:hover {\n",
              "      background-color: #E2EBFA;\n",
              "      box-shadow: 0px 1px 2px rgba(60, 64, 67, 0.3), 0px 1px 3px 1px rgba(60, 64, 67, 0.15);\n",
              "      fill: #174EA6;\n",
              "    }\n",
              "\n",
              "    [theme=dark] .colab-df-convert {\n",
              "      background-color: #3B4455;\n",
              "      fill: #D2E3FC;\n",
              "    }\n",
              "\n",
              "    [theme=dark] .colab-df-convert:hover {\n",
              "      background-color: #434B5C;\n",
              "      box-shadow: 0px 1px 3px 1px rgba(0, 0, 0, 0.15);\n",
              "      filter: drop-shadow(0px 1px 2px rgba(0, 0, 0, 0.3));\n",
              "      fill: #FFFFFF;\n",
              "    }\n",
              "  </style>\n",
              "\n",
              "      <script>\n",
              "        const buttonEl =\n",
              "          document.querySelector('#df-9b6971b3-5b67-4807-b7a4-fd7297420b2a button.colab-df-convert');\n",
              "        buttonEl.style.display =\n",
              "          google.colab.kernel.accessAllowed ? 'block' : 'none';\n",
              "\n",
              "        async function convertToInteractive(key) {\n",
              "          const element = document.querySelector('#df-9b6971b3-5b67-4807-b7a4-fd7297420b2a');\n",
              "          const dataTable =\n",
              "            await google.colab.kernel.invokeFunction('convertToInteractive',\n",
              "                                                     [key], {});\n",
              "          if (!dataTable) return;\n",
              "\n",
              "          const docLinkHtml = 'Like what you see? Visit the ' +\n",
              "            '<a target=\"_blank\" href=https://colab.research.google.com/notebooks/data_table.ipynb>data table notebook</a>'\n",
              "            + ' to learn more about interactive tables.';\n",
              "          element.innerHTML = '';\n",
              "          dataTable['output_type'] = 'display_data';\n",
              "          await google.colab.output.renderOutput(dataTable, element);\n",
              "          const docLink = document.createElement('div');\n",
              "          docLink.innerHTML = docLinkHtml;\n",
              "          element.appendChild(docLink);\n",
              "        }\n",
              "      </script>\n",
              "    </div>\n",
              "  </div>\n",
              "  "
            ]
          },
          "metadata": {},
          "execution_count": 292
        }
      ]
    },
    {
      "cell_type": "code",
      "metadata": {
        "id": "ewFORcxRNXuJ"
      },
      "source": [
        "hot_encode = OneHotEncoder()\n",
        "x = hot_encode.fit_transform(x)"
      ],
      "execution_count": 293,
      "outputs": []
    },
    {
      "cell_type": "code",
      "metadata": {
        "id": "NGW-kwnMNXuJ",
        "outputId": "bd37975a-ee8e-4c15-c02a-ef88c003931d",
        "colab": {
          "base_uri": "https://localhost:8080/"
        }
      },
      "source": [
        "x"
      ],
      "execution_count": 294,
      "outputs": [
        {
          "output_type": "execute_result",
          "data": {
            "text/plain": [
              "<303x246 sparse matrix of type '<class 'numpy.float64'>'\n",
              "\twith 3636 stored elements in Compressed Sparse Row format>"
            ]
          },
          "metadata": {},
          "execution_count": 294
        }
      ]
    },
    {
      "cell_type": "code",
      "metadata": {
        "id": "qmX5qABqNXuJ",
        "outputId": "f7fa0e30-da18-4c1d-fa67-e6e9211eb02c",
        "colab": {
          "base_uri": "https://localhost:8080/"
        }
      },
      "source": [
        "#train_test_split\n",
        "x_train, x_test, y_train, y_test= train_test_split(independent,dependent,test_size=0.2,random_state=5)\n",
        "x_train.shape, y_train.shape, x_test.shape, y_test.shape"
      ],
      "execution_count": 295,
      "outputs": [
        {
          "output_type": "execute_result",
          "data": {
            "text/plain": [
              "((242, 13), (242,), (61, 13), (61,))"
            ]
          },
          "metadata": {},
          "execution_count": 295
        }
      ]
    },
    {
      "cell_type": "code",
      "metadata": {
        "id": "qjTbQvyjNXuK",
        "outputId": "11da69ee-c6c8-4024-fa26-05e07d872727",
        "colab": {
          "base_uri": "https://localhost:8080/"
        }
      },
      "source": [
        "#modeling\n",
        "dt = tree.DecisionTreeClassifier()\n",
        "dt.fit(x_train,y_train)"
      ],
      "execution_count": 296,
      "outputs": [
        {
          "output_type": "execute_result",
          "data": {
            "text/plain": [
              "DecisionTreeClassifier()"
            ]
          },
          "metadata": {},
          "execution_count": 296
        }
      ]
    },
    {
      "cell_type": "code",
      "metadata": {
        "id": "ISQhgxfeNXuK",
        "outputId": "2998c945-e578-457a-899f-7f47da698ce5",
        "colab": {
          "base_uri": "https://localhost:8080/",
          "height": 248
        }
      },
      "source": [
        "_=tree.plot_tree(dt)"
      ],
      "execution_count": 297,
      "outputs": [
        {
          "output_type": "display_data",
          "data": {
            "text/plain": [
              "<Figure size 432x288 with 1 Axes>"
            ],
            "image/png": "[encoded data removed]"
          },
          "metadata": {}
        }
      ]
    },
    {
      "cell_type": "code",
      "metadata": {
        "id": "XhANB9IvNXuK",
        "outputId": "b23324b6-07ac-4f1b-e9dd-d175a630a860",
        "colab": {
          "base_uri": "https://localhost:8080/"
        }
      },
      "source": [
        "cross_val_score(dt,x,y, cv=3)"
      ],
      "execution_count": 298,
      "outputs": [
        {
          "output_type": "execute_result",
          "data": {
            "text/plain": [
              "array([0.77227723, 0.76237624, 0.63366337])"
            ]
          },
          "metadata": {},
          "execution_count": 298
        }
      ]
    },
    {
      "cell_type": "code",
      "metadata": {
        "id": "C3eCE90WNXuK",
        "outputId": "dfa879b8-4968-46d2-c42b-0ebcd3ebb199",
        "colab": {
          "base_uri": "https://localhost:8080/"
        }
      },
      "source": [
        "cross_val_score(dt,x,y, cv=3).mean()"
      ],
      "execution_count": 299,
      "outputs": [
        {
          "output_type": "execute_result",
          "data": {
            "text/plain": [
              "0.7326732673267328"
            ]
          },
          "metadata": {},
          "execution_count": 299
        }
      ]
    },
    {
      "cell_type": "code",
      "metadata": {
        "id": "Jlzan2d5NXuK",
        "outputId": "c12d9871-265b-4220-de15-1a176fbbcabb",
        "colab": {
          "base_uri": "https://localhost:8080/"
        }
      },
      "source": [
        "print(classification_report(y_test,dt.predict(x_test)))"
      ],
      "execution_count": 300,
      "outputs": [
        {
          "output_type": "stream",
          "name": "stdout",
          "text": [
            "              precision    recall  f1-score   support\n",
            "\n",
            "           0       0.83      0.83      0.83        30\n",
            "           1       0.84      0.84      0.84        31\n",
            "\n",
            "    accuracy                           0.84        61\n",
            "   macro avg       0.84      0.84      0.84        61\n",
            "weighted avg       0.84      0.84      0.84        61\n",
            "\n"
          ]
        }
      ]
    },
    {
      "cell_type": "code",
      "metadata": {
        "id": "zPOz7wdnNXuL"
      },
      "source": [
        "class_dict = {1:'Yes',0:'No'}"
      ],
      "execution_count": 301,
      "outputs": []
    },
    {
      "cell_type": "code",
      "metadata": {
        "id": "s4BZpJXFNXuL",
        "outputId": "e5a11cae-3a1f-4710-a66f-366ca6e7b95c",
        "colab": {
          "base_uri": "https://localhost:8080/",
          "height": 500
        }
      },
      "source": [
        "cm = confusion_matrix(y_test, dt.predict(x_test))\n",
        "fig, ax = plt.subplots(figsize=(8,8))\n",
        "\n",
        "g = sns.heatmap(cm,annot=True,ax=ax)\n",
        "g.set_yticklabels(g.get_yticklabels(), rotation = 0, fontsize = 12)\n",
        "g.set_xticklabels(g.get_xticklabels(), rotation = 90, fontsize = 12)\n",
        "ax.xaxis.set_ticklabels(class_dict.keys()); ax.yaxis.set_ticklabels(class_dict.keys());\n",
        "ax.set_xlabel('Predicted labels');ax.set_ylabel('True labels'); "
      ],
      "execution_count": 302,
      "outputs": [
        {
          "output_type": "display_data",
          "data": {
            "text/plain": [
              "<Figure size 576x576 with 2 Axes>"
            ],
            "image/png": "[encoded data removed]"
          },
          "metadata": {}
        }
      ]
    },
    {
      "cell_type": "code",
      "metadata": {
        "id": "8u-a43xrNXuL"
      },
      "source": [
        "#feature scalling\n",
        "stndrd=StandardScaler()\n",
        "x_train=stndrd.fit_transform(x_train)"
      ],
      "execution_count": 303,
      "outputs": []
    },
    {
      "cell_type": "code",
      "metadata": {
        "id": "0_V26lxKNXuL"
      },
      "source": [
        "x_test=stndrd.transform(x_test)"
      ],
      "execution_count": 304,
      "outputs": []
    },
    {
      "cell_type": "code",
      "metadata": {
        "id": "aKANN4xyNXuL",
        "outputId": "d5b02e8b-4021-4604-e2a9-8d94b236e6ab",
        "colab": {
          "base_uri": "https://localhost:8080/"
        }
      },
      "source": [
        "x_train"
      ],
      "execution_count": 305,
      "outputs": [
        {
          "output_type": "execute_result",
          "data": {
            "text/plain": [
              "array([[ 0.06931211, -1.50674161, -0.97227182, ..., -0.65683133,\n",
              "        -0.69043052, -0.49747423],\n",
              "       [-1.27257043, -1.50674161, -0.97227182, ..., -0.65683133,\n",
              "        -0.69043052,  1.15168692],\n",
              "       [-0.15433498,  0.6636838 ,  0.97227182, ...,  0.98186126,\n",
              "         2.31108179, -0.49747423],\n",
              "       ...,\n",
              "       [-0.93709979, -1.50674161,  0.        , ...,  0.98186126,\n",
              "        -0.69043052, -0.49747423],\n",
              "       [-1.49621752,  0.6636838 , -0.97227182, ...,  0.98186126,\n",
              "        -0.69043052,  1.15168692],\n",
              "       [ 0.5166063 ,  0.6636838 , -0.97227182, ..., -0.65683133,\n",
              "         0.31007359,  1.15168692]])"
            ]
          },
          "metadata": {},
          "execution_count": 305
        }
      ]
    },
    {
      "cell_type": "code",
      "metadata": {
        "id": "sl8d6mpJNXuL",
        "outputId": "e1e1722c-777a-43e0-bd9c-b513d58cd662",
        "colab": {
          "base_uri": "https://localhost:8080/"
        }
      },
      "source": [
        "x_test"
      ],
      "execution_count": 306,
      "outputs": [
        {
          "output_type": "execute_result",
          "data": {
            "text/plain": [
              "array([[ 0.2929592 , -1.50674161,  0.        , -0.08831373, -0.16054827,\n",
              "        -0.43159531, -1.07963713,  1.04791333, -0.6636838 , -0.88059368,\n",
              "        -0.65683133,  0.31007359, -0.49747423],\n",
              "       [ 0.2929592 ,  0.6636838 , -0.97227182,  1.16217112,  0.58210861,\n",
              "        -0.43159531,  0.84148188, -2.77960023,  1.50674161,  0.18714914,\n",
              "        -0.65683133,  0.31007359,  1.15168692],\n",
              "       [-0.04251143,  0.6636838 , -0.97227182, -0.54303549,  0.81663184,\n",
              "        -0.43159531, -1.07963713, -1.53343302,  1.50674161,  1.9667205 ,\n",
              "        -0.65683133,  1.31057769, -0.49747423],\n",
              "       [ 0.74025339, -1.50674161, -0.97227182,  0.76428957,  1.22704749,\n",
              "        -0.43159531, -1.07963713, -0.19825387,  1.50674161,  0.009192  ,\n",
              "        -0.65683133, -0.69043052,  1.15168692],\n",
              "       [-1.60804106,  0.6636838 ,  1.94454365,  0.48008847, -0.88366155,\n",
              "        -0.43159531,  0.84148188,  1.22593722,  1.50674161,  0.36510627,\n",
              "         0.98186126, -0.69043052,  1.15168692],\n",
              "       [ 0.74025339,  0.6636838 , -0.97227182,  0.48008847, -0.72731273,\n",
              "        -0.43159531, -1.07963713, -0.55430165,  1.50674161,  0.80999912,\n",
              "         0.98186126,  0.31007359,  1.15168692],\n",
              "       [ 0.18113566,  0.6636838 ,  0.        , -0.08831373, -0.4537023 ,\n",
              "        -0.43159531, -1.07963713,  0.55834764, -0.6636838 , -0.88059368,\n",
              "         0.98186126, -0.69043052,  1.15168692],\n",
              "       [ 0.96390048,  0.6636838 , -0.97227182,  0.48008847, -1.11818478,\n",
              "        -0.43159531, -1.07963713, -0.28726582,  1.50674161,  2.67854905,\n",
              "         0.98186126,  1.31057769,  1.15168692],\n",
              "       [-0.37798207, -1.50674161,  0.97227182, -0.08831373,  0.23032377,\n",
              "        -0.43159531, -1.07963713, -0.06473596, -0.6636838 , -0.43570084,\n",
              "         0.98186126, -0.69043052, -0.49747423],\n",
              "       [-1.83168815,  0.6636838 ,  0.97227182,  0.36640803, -1.352708  ,\n",
              "        -0.43159531,  0.84148188,  1.00340736, -0.6636838 , -0.88059368,\n",
              "         0.98186126,  3.3115859 , -0.49747423],\n",
              "       [-0.15433498, -1.50674161, -0.97227182, -0.08831373,  0.38667259,\n",
              "        -0.43159531, -1.07963713, -0.33177179, -0.6636838 , -0.52467941,\n",
              "        -0.65683133, -0.69043052, -0.49747423],\n",
              "       [ 0.5166063 ,  0.6636838 , -0.97227182,  2.18529508,  1.59837593,\n",
              "        -0.43159531, -1.07963713, -0.4652897 ,  1.50674161,  2.14467764,\n",
              "        -2.29552392, -0.69043052,  1.15168692],\n",
              "       [-0.7134527 ,  0.6636838 ,  0.97227182, -0.42935505,  0.21078017,\n",
              "         2.31698534,  0.84148188,  1.0924193 , -0.6636838 , -0.88059368,\n",
              "         0.98186126,  1.31057769, -0.49747423],\n",
              "       [-1.71986461, -1.50674161,  0.97227182,  0.36640803, -0.4732459 ,\n",
              "        -0.43159531,  0.84148188,  0.06878196, -0.6636838 , -0.88059368,\n",
              "        -0.65683133, -0.69043052, -0.49747423],\n",
              "       [ 1.41119466,  0.6636838 , -0.97227182, -0.65671593, -0.14100467,\n",
              "        -0.43159531,  0.84148188, -3.53620174, -0.6636838 ,  0.009192  ,\n",
              "        -0.65683133, -0.69043052, -0.49747423],\n",
              "       [ 0.85207693, -1.50674161, -0.97227182,  0.48008847,  0.464847  ,\n",
              "        -0.43159531, -1.07963713,  0.42482973, -0.6636838 ,  2.32263478,\n",
              "        -2.29552392,  1.31057769, -0.49747423],\n",
              "       [-0.93709979,  0.6636838 , -0.97227182, -0.65671593,  0.09351856,\n",
              "        -0.43159531, -1.07963713, -0.28726582, -0.6636838 , -0.16876514,\n",
              "         0.98186126, -0.69043052,  1.15168692],\n",
              "       [-1.16074688,  0.6636838 , -0.97227182, -1.22511814, -0.92274875,\n",
              "        -0.43159531, -1.07963713,  1.18143125, -0.6636838 , -0.88059368,\n",
              "         0.98186126,  0.31007359, -0.49747423],\n",
              "       [ 1.85848884, -1.50674161,  0.97227182, -1.22511814,  0.40621619,\n",
              "         2.31698534, -1.07963713, -0.91034942, -0.6636838 , -0.88059368,\n",
              "         0.98186126,  0.31007359, -0.49747423],\n",
              "       [ 0.06931211, -1.50674161, -0.97227182, -0.20199417, -0.76639994,\n",
              "        -0.43159531,  2.76260089, -0.91034942,  1.50674161,  0.89897768,\n",
              "        -0.65683133,  0.31007359,  1.15168692],\n",
              "       [ 0.40478275,  0.6636838 , -0.97227182, -0.20199417, -0.55142031,\n",
              "        -0.43159531, -1.07963713, -0.86584345,  1.50674161,  1.07693482,\n",
              "        -0.65683133,  2.31108179,  1.15168692],\n",
              "       [ 0.62842984,  0.6636838 , -0.97227182, -0.08831373,  0.17169297,\n",
              "        -0.43159531,  0.84148188, -0.28726582,  1.50674161,  0.36510627,\n",
              "         0.98186126,  0.31007359,  1.15168692],\n",
              "       [-0.26615852,  0.6636838 ,  1.94454365, -0.77039637, -1.13772838,\n",
              "        -0.43159531, -1.07963713,  1.76000888, -0.6636838 , -0.88059368,\n",
              "        -0.65683133, -0.69043052, -2.14663538],\n",
              "       [ 0.96390048, -1.50674161, -0.97227182,  1.04849068,  3.1814077 ,\n",
              "        -0.43159531, -1.07963713,  0.1577939 , -0.6636838 ,  2.67854905,\n",
              "        -0.65683133,  2.31108179,  1.15168692],\n",
              "       [-1.04892334,  0.6636838 , -0.97227182, -1.56615946, -0.70776913,\n",
              "        -0.43159531, -1.07963713, -0.10924193,  1.50674161,  1.78876337,\n",
              "        -0.65683133, -0.69043052, -0.49747423],\n",
              "       [-0.7134527 ,  0.6636838 , -0.97227182, -0.54303549, -0.4341587 ,\n",
              "        -0.43159531, -1.07963713,  1.58198499, -0.6636838 , -0.88059368,\n",
              "         0.98186126, -0.69043052, -0.49747423],\n",
              "       [-0.04251143,  0.6636838 ,  0.        , -1.33879858,  1.26613469,\n",
              "        -0.43159531,  0.84148188,  0.24680584, -0.6636838 , -0.88059368,\n",
              "         0.98186126, -0.69043052,  1.15168692],\n",
              "       [-0.04251143, -1.50674161,  0.97227182, -1.22511814, -0.59050752,\n",
              "        -0.43159531,  0.84148188,  0.33581779, -0.6636838 ,  0.54306341,\n",
              "        -0.65683133, -0.69043052, -0.49747423],\n",
              "       [-0.15433498, -1.50674161,  0.97227182, -0.20199417, -0.55142031,\n",
              "        -0.43159531, -1.07963713, -1.57793899, -0.6636838 , -0.88059368,\n",
              "         0.98186126, -0.69043052, -3.79579653],\n",
              "       [-1.27257043,  0.6636838 , -0.97227182, -0.65671593, -1.3136208 ,\n",
              "        -0.43159531, -1.07963713, -1.35540914,  1.50674161,  1.34387053,\n",
              "        -0.65683133, -0.69043052,  1.15168692],\n",
              "       [ 1.41119466, -1.50674161,  0.97227182,  1.16217112,  0.64073942,\n",
              "        -0.43159531,  0.84148188,  0.95890139, -0.6636838 , -0.88059368,\n",
              "         0.98186126,  0.31007359, -0.49747423],\n",
              "       [-1.38439397,  0.6636838 ,  0.        , -0.65671593,  0.99252426,\n",
              "        -0.43159531,  0.84148188,  0.51384167, -0.6636838 , -0.88059368,\n",
              "         0.98186126, -0.69043052, -0.49747423],\n",
              "       [-0.04251143,  0.6636838 ,  0.97227182, -0.37251483,  0.56256501,\n",
              "        -0.43159531, -1.07963713,  0.06878196, -0.6636838 , -0.43570084,\n",
              "        -2.29552392,  0.31007359, -0.49747423],\n",
              "       [-0.04251143, -1.50674161,  0.        ,  0.02536671,  0.85571904,\n",
              "         2.31698534, -1.07963713,  0.38032376,  1.50674161, -0.88059368,\n",
              "         0.98186126,  0.31007359, -0.49747423],\n",
              "       [ 0.62842984,  0.6636838 , -0.97227182, -0.8272366 , -0.27780988,\n",
              "         2.31698534,  0.84148188,  0.42482973,  1.50674161,  0.36510627,\n",
              "         0.98186126,  1.31057769,  1.15168692],\n",
              "       [ 1.74666529,  0.6636838 , -0.97227182, -0.08831373,  1.52020152,\n",
              "        -0.43159531, -1.07963713, -1.84497482, -0.6636838 ,  1.25489196,\n",
              "        -0.65683133,  2.31108179, -0.49747423],\n",
              "       [-0.15433498, -1.50674161, -0.97227182,  0.36640803, -0.19963547,\n",
              "        -0.43159531, -1.07963713,  0.42482973, -0.6636838 , -0.88059368,\n",
              "         0.98186126, -0.69043052, -0.49747423],\n",
              "       [-1.16074688,  0.6636838 ,  0.97227182, -0.08831373, -0.21917908,\n",
              "        -0.43159531,  0.84148188,  1.27044319,  1.50674161, -0.52467941,\n",
              "         0.98186126, -0.69043052, -0.49747423],\n",
              "       [ 1.07572402,  0.6636838 , -0.97227182,  0.76428957, -0.62959472,\n",
              "        -0.43159531, -1.07963713, -0.82133748, -0.6636838 ,  0.89897768,\n",
              "        -0.65683133,  1.31057769, -2.14663538],\n",
              "       [ 0.85207693, -1.50674161, -0.97227182,  0.48008847,  2.92734087,\n",
              "        -0.43159531, -1.07963713,  0.29131181, -0.6636838 ,  0.18714914,\n",
              "        -0.65683133, -0.69043052, -0.49747423],\n",
              "       [ 0.18113566,  0.6636838 ,  1.94454365, -0.65671593, -1.00092316,\n",
              "        -0.43159531, -1.07963713,  0.51384167, -0.6636838 ,  0.80999912,\n",
              "        -0.65683133, -0.69043052,  1.15168692],\n",
              "       [-0.15433498,  0.6636838 , -0.97227182,  0.59376891, -0.35598429,\n",
              "        -0.43159531, -1.07963713, -1.75596288,  1.50674161, -0.88059368,\n",
              "         0.98186126, -0.69043052,  1.15168692],\n",
              "       [-0.37798207,  0.6636838 ,  0.97227182, -1.79352034, -0.4341587 ,\n",
              "        -0.43159531,  0.84148188, -0.33177179,  1.50674161,  0.18714914,\n",
              "        -0.65683133, -0.69043052, -0.49747423],\n",
              "       [ 0.85207693,  0.6636838 , -0.97227182, -0.65671593,  0.4453034 ,\n",
              "        -0.43159531,  0.84148188, -2.29003454,  1.50674161,  0.72102055,\n",
              "        -0.65683133,  1.31057769,  1.15168692],\n",
              "       [ 2.52943011,  0.6636838 , -0.97227182, -0.37251483,  1.16841668,\n",
              "        -0.43159531, -1.07963713,  0.51384167,  1.50674161, -0.88059368,\n",
              "         0.98186126,  2.31108179, -0.49747423],\n",
              "       [ 0.18113566, -1.50674161, -0.97227182,  0.13904715,  3.22049491,\n",
              "        -0.43159531, -1.07963713, -0.02022999,  1.50674161,  0.80999912,\n",
              "        -0.65683133,  1.31057769,  1.15168692],\n",
              "       [ 0.62842984,  0.6636838 , -0.97227182,  0.76428957,  0.73845743,\n",
              "        -0.43159531, -1.07963713, -0.37627776,  1.50674161,  1.61080623,\n",
              "        -0.65683133,  1.31057769,  1.15168692],\n",
              "       [ 1.18754757, -1.50674161, -0.97227182,  1.04849068, -0.37552789,\n",
              "        -0.43159531, -1.07963713, -1.62244496, -0.6636838 ,  0.009192  ,\n",
              "        -0.65683133,  2.31108179,  1.15168692],\n",
              "       [-0.7134527 ,  0.6636838 , -0.97227182, -0.08831373,  0.23032377,\n",
              "         2.31698534, -1.07963713, -0.02022999,  1.50674161, -0.88059368,\n",
              "         0.98186126,  1.31057769,  1.15168692],\n",
              "       [ 0.18113566, -1.50674161, -0.97227182,  3.89050169,  0.85571904,\n",
              "         2.31698534, -1.07963713, -0.7768315 ,  1.50674161,  2.67854905,\n",
              "        -2.29552392,  1.31057769,  1.15168692],\n",
              "       [ 0.18113566,  0.6636838 , -0.97227182, -0.08831373,  0.75800103,\n",
              "         2.31698534, -1.07963713, -2.11201065,  1.50674161,  0.54306341,\n",
              "        -2.29552392, -0.69043052,  1.15168692],\n",
              "       [-1.27257043,  0.6636838 ,  0.97227182, -0.08831373,  1.3833963 ,\n",
              "        -0.43159531,  0.84148188,  0.51384167, -0.6636838 ,  0.80999912,\n",
              "         0.98186126,  0.31007359, -0.49747423],\n",
              "       [ 1.18754757, -1.50674161,  0.97227182,  1.61689288,  2.2628584 ,\n",
              "        -0.43159531, -1.07963713,  0.02427598, -0.6636838 , -0.16876514,\n",
              "         0.98186126, -0.69043052, -0.49747423],\n",
              "       [-1.38439397, -1.50674161, -0.97227182, -1.6798399 ,  0.40621619,\n",
              "        -0.43159531, -1.07963713, -1.26639719, -0.6636838 , -0.34672227,\n",
              "        -0.65683133, -0.69043052, -0.49747423],\n",
              "       [-1.9435117 , -1.50674161,  0.97227182, -0.65671593, -0.57096391,\n",
              "        -0.43159531,  0.84148188,  0.86988944, -0.6636838 , -0.88059368,\n",
              "         0.98186126, -0.69043052, -0.49747423],\n",
              "       [ 1.74666529,  0.6636838 ,  0.        ,  1.389532  ,  0.01534415,\n",
              "        -0.43159531, -1.07963713, -0.33177179, -0.6636838 , -0.88059368,\n",
              "         0.98186126, -0.69043052, -0.49747423],\n",
              "       [ 1.85848884, -1.50674161,  0.        ,  1.61689288,  1.12932947,\n",
              "        -0.43159531,  0.84148188,  0.51384167, -0.6636838 , -0.52467941,\n",
              "         0.98186126,  1.31057769, -0.49747423],\n",
              "       [-1.83168815,  0.6636838 ,  1.94454365, -0.65671593, -0.25826628,\n",
              "        -0.43159531,  0.84148188,  1.4039611 ,  1.50674161,  2.50059191,\n",
              "        -0.65683133, -0.69043052,  1.15168692],\n",
              "       [-0.93709979,  0.6636838 ,  0.97227182,  1.04849068, -0.25826628,\n",
              "        -0.43159531,  0.84148188, -0.1537479 , -0.6636838 ,  2.32263478,\n",
              "        -0.65683133, -0.69043052, -0.49747423],\n",
              "       [-1.38439397,  0.6636838 ,  0.97227182, -0.08831373, -1.25498999,\n",
              "        -0.43159531,  0.84148188, -0.02022999, -0.6636838 , -0.88059368,\n",
              "         0.98186126, -0.69043052, -0.49747423],\n",
              "       [-1.71986461,  0.6636838 , -0.97227182, -0.77039637, -0.49278951,\n",
              "        -0.43159531,  0.84148188, -0.4652897 , -0.6636838 ,  0.18714914,\n",
              "        -0.65683133, -0.69043052,  1.15168692]])"
            ]
          },
          "metadata": {},
          "execution_count": 306
        }
      ]
    },
    {
      "cell_type": "code",
      "metadata": {
        "id": "CuA3UjOqNXuM"
      },
      "source": [
        "#multiple linear regression\n",
        "from sklearn.linear_model import LinearRegression"
      ],
      "execution_count": 307,
      "outputs": []
    },
    {
      "cell_type": "code",
      "metadata": {
        "id": "98Fy1hhoNXuM"
      },
      "source": [
        "regressor=LinearRegression()"
      ],
      "execution_count": 308,
      "outputs": []
    },
    {
      "cell_type": "code",
      "metadata": {
        "id": "0VeplysqNXuM",
        "outputId": "10b6014a-a950-40e4-c7f8-ed12b166a480",
        "colab": {
          "base_uri": "https://localhost:8080/"
        }
      },
      "source": [
        "regressor.fit(x_train,y_train)"
      ],
      "execution_count": 309,
      "outputs": [
        {
          "output_type": "execute_result",
          "data": {
            "text/plain": [
              "LinearRegression()"
            ]
          },
          "metadata": {},
          "execution_count": 309
        }
      ]
    },
    {
      "cell_type": "code",
      "metadata": {
        "id": "fRAhcJ-UNXuM"
      },
      "source": [
        "y_pred=regressor.predict(x_test)"
      ],
      "execution_count": 310,
      "outputs": []
    },
    {
      "cell_type": "code",
      "metadata": {
        "id": "cVCH5K0WNXuM",
        "outputId": "d3a48789-bd3a-46ab-ab21-81392c83a099",
        "colab": {
          "base_uri": "https://localhost:8080/"
        }
      },
      "source": [
        "y_pred"
      ],
      "execution_count": 311,
      "outputs": [
        {
          "output_type": "execute_result",
          "data": {
            "text/plain": [
              "array([ 0.82935476, -0.14216315, -0.12625841,  0.31295753,  0.73221584,\n",
              "        0.06645534,  0.63422013, -0.10536869,  0.97800049,  0.58369924,\n",
              "        0.67672447, -0.17595135,  0.7855475 ,  1.02212138,  0.27794882,\n",
              "        0.28260132,  0.43117949,  0.66379088,  0.8856044 ,  0.343344  ,\n",
              "       -0.21427108,  0.17568006,  1.16391427, -0.01606051,  0.28723954,\n",
              "        0.75017666,  0.67516942,  1.02445055,  1.14756565,  0.07640293,\n",
              "        0.98234556,  0.80154697,  0.54398318,  0.66425541,  0.19468404,\n",
              "       -0.09539947,  0.82359165,  0.79960768,  0.25793081,  0.58163984,\n",
              "        0.72057771,  0.15227716,  0.6370955 , -0.15627821,  0.1379417 ,\n",
              "        0.05120999, -0.18597363,  0.0999893 ,  0.12262928, -0.24424485,\n",
              "       -0.08075469,  0.67816393,  0.83249103,  0.66094445,  1.19838196,\n",
              "        0.60139653,  0.68655798,  0.58700408,  0.57406006,  0.9106543 ,\n",
              "        0.4224312 ])"
            ]
          },
          "metadata": {},
          "execution_count": 311
        }
      ]
    },
    {
      "cell_type": "code",
      "metadata": {
        "id": "R3CoNEzPNXuM",
        "outputId": "d4f5d71e-14e3-4874-d3bd-78a25ba9a07b",
        "colab": {
          "base_uri": "https://localhost:8080/"
        }
      },
      "source": [
        "y_test"
      ],
      "execution_count": 312,
      "outputs": [
        {
          "output_type": "execute_result",
          "data": {
            "text/plain": [
              "array([0, 0, 0, 0, 1, 0, 1, 0, 1, 1, 1, 0, 1, 1, 0, 0, 0, 0, 1, 0, 0, 0,\n",
              "       1, 0, 1, 1, 1, 1, 1, 0, 1, 1, 1, 1, 0, 0, 1, 1, 0, 1, 1, 1, 1, 0,\n",
              "       0, 0, 0, 0, 0, 0, 0, 1, 1, 1, 1, 1, 1, 0, 0, 1, 0])"
            ]
          },
          "metadata": {},
          "execution_count": 312
        }
      ]
    },
    {
      "cell_type": "code",
      "metadata": {
        "id": "0KoGQMLSNXuM",
        "outputId": "897f42a3-eeae-4339-830e-3672f9275f88",
        "colab": {
          "base_uri": "https://localhost:8080/",
          "height": 481
        }
      },
      "source": [
        "plt.figure(figsize=(14,7))\n",
        "plt.scatter(y_test, y_pred)   \n",
        "plt.xlabel('Actual')\n",
        "plt.ylabel('Predicted')\n",
        "plt.title('Actual vs. Predicted')"
      ],
      "execution_count": 313,
      "outputs": [
        {
          "output_type": "execute_result",
          "data": {
            "text/plain": [
              "Text(0.5, 1.0, 'Actual vs. Predicted')"
            ]
          },
          "metadata": {},
          "execution_count": 313
        },
        {
          "output_type": "display_data",
          "data": {
            "text/plain": [
              "<Figure size 1008x504 with 1 Axes>"
            ],
            "image/png": "[encoded data removed]"
          },
          "metadata": {}
        }
      ]
    },
    {
      "cell_type": "code",
      "metadata": {
        "id": "4E3Lp6cGNXuN",
        "outputId": "5ae08fc7-a4ef-48f5-cc4b-96c9d6d8db35",
        "colab": {
          "base_uri": "https://localhost:8080/"
        }
      },
      "source": [
        "#accuracy check\n",
        "regressor.score(x_test,y_test)"
      ],
      "execution_count": 314,
      "outputs": [
        {
          "output_type": "execute_result",
          "data": {
            "text/plain": [
              "0.5837903825403714"
            ]
          },
          "metadata": {},
          "execution_count": 314
        }
      ]
    },
    {
      "cell_type": "code",
      "metadata": {
        "id": "KTiHPUjbNXuN",
        "outputId": "3e84462e-aeec-49cb-ce6b-abcfc464cf5c",
        "colab": {
          "base_uri": "https://localhost:8080/"
        }
      },
      "source": [
        "#accuracy check by randomforestclassifier\n",
        "from sklearn.ensemble import RandomForestClassifier\n",
        "model = RandomForestClassifier(n_estimators=20)  #20 random tress\n",
        "model.fit(x_train, y_train)"
      ],
      "execution_count": 315,
      "outputs": [
        {
          "output_type": "execute_result",
          "data": {
            "text/plain": [
              "RandomForestClassifier(n_estimators=20)"
            ]
          },
          "metadata": {},
          "execution_count": 315
        }
      ]
    },
    {
      "cell_type": "code",
      "metadata": {
        "id": "-HgL1_UfNXuN",
        "colab": {
          "base_uri": "https://localhost:8080/"
        },
        "outputId": "2c9f12cb-c729-4a39-d49d-02a3f844449a"
      },
      "source": [
        "model.score(x_test,y_test)"
      ],
      "execution_count": 316,
      "outputs": [
        {
          "output_type": "execute_result",
          "data": {
            "text/plain": [
              "0.8852459016393442"
            ]
          },
          "metadata": {},
          "execution_count": 316
        }
      ]
    },
    {
      "cell_type": "code",
      "metadata": {
        "id": "WqjZ8cVbNXuN",
        "colab": {
          "base_uri": "https://localhost:8080/"
        },
        "outputId": "87c64076-c8fb-4197-b3ff-8ecf2619c9f5"
      },
      "source": [
        "model = RandomForestClassifier(n_estimators=40)  #40 random tress\n",
        "model.fit(x_train, y_train)"
      ],
      "execution_count": 317,
      "outputs": [
        {
          "output_type": "execute_result",
          "data": {
            "text/plain": [
              "RandomForestClassifier(n_estimators=40)"
            ]
          },
          "metadata": {},
          "execution_count": 317
        }
      ]
    },
    {
      "cell_type": "code",
      "metadata": {
        "id": "FuLyOytcNXuN",
        "colab": {
          "base_uri": "https://localhost:8080/"
        },
        "outputId": "b61c07aa-0d67-486c-9884-c30da1a5e566"
      },
      "source": [
        "model.score(x_test,y_test)"
      ],
      "execution_count": 318,
      "outputs": [
        {
          "output_type": "execute_result",
          "data": {
            "text/plain": [
              "0.8688524590163934"
            ]
          },
          "metadata": {},
          "execution_count": 318
        }
      ]
    },
    {
      "cell_type": "code",
      "metadata": {
        "id": "QHP7yZi3NXuO"
      },
      "source": [],
      "execution_count": 318,
      "outputs": []
    }
  ]
}